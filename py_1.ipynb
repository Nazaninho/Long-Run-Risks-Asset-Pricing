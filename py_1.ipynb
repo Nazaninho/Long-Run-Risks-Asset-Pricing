{
  "cells": [
    {
      "cell_type": "markdown",
      "metadata": {
        "id": "q6AMkPRvY1u3"
      },
      "source": [
        "### Exam GRA 6670 - Higher-Order Effects in Asset Pricing Models with Long-Run Risks\n",
        "\n",
        "**Contents**\n",
        "\n",
        "1. Introduction\n",
        "2. Model Framwork\n",
        "3. Solving the SSY model\n",
        "4. literature list"
      ]
    },
    {
      "cell_type": "markdown",
      "metadata": {
        "id": "rkoAaYwSci-R"
      },
      "source": [
        "**1. introduction**\n",
        "\n",
        "This assignment translates MATLAB code from the 2016 working paper \"Higher Order Effects in Asset Pricing Models with Long-Run Risks\" published in THE JOURNAL OF FINANCE by Walter Pohl, Karl Schmedders, and Ole Wilms, into Python. It tackles the Schorfheide, Song, and Yaron (2016) model, employing a collocation projection method with cubic splines and a log-linearized solution to produce annualized moments from extended simulations.\n"
      ]
    },
    {
      "cell_type": "markdown",
      "metadata": {
        "id": "vDubGq__u8VG"
      },
      "source": [
        "The MATLAB code is enclosed in a zip file. The main code is 'SSY_Model.m', which refers to the function 'ModSpecFunctions'. This function includes 'constraints_Pf.m', 'constraints_WC.m', 'constraints_PD.m', 'GaussHermite_2.m', 'mean_pd_LL.m', 'mean_wc_LL.m', 'Simul_States.m',\"Annualized_Statistics.m\" 'Chebychev.m', and 'wrap.m'.\n",
        "\n",
        "The code solves the model of Schorfheide, Song, and Yaron (2016) using a collocation projection method with cubic splines, as well as a log-linearized solution. It produces annualized moments from long simulations, as shown in Table 5 of the paper, and results for various persistence parameters as presented in Table EII. To obtain these different results, the parameters ρ, νx, νc, and νd must be set at the beginning of the code accordingly."
      ]
    },
    {
      "cell_type": "markdown",
      "metadata": {
        "id": "YLh1LBjiu8VG"
      },
      "source": [
        "The basic structure of the code:\n",
        "Define parameters, Model of Schorfheide, Song and Yaron (2016)\n",
        "Set Parameters\n",
        "Compute Log Linear Solution (obtained from Schorfheide, Song and Yaron) Specify Settings for Global Solution\n",
        "Compute Projection Solution\n",
        "Part 2: Run Simulations for Annualized Moments.\n",
        "\n"
      ]
    },
    {
      "cell_type": "markdown",
      "metadata": {
        "id": "JrVFj15Bu8VG"
      },
      "source": [
        "The Python code incorporates several numerical methods and techniques, each serving different purposes in the analysis.\n",
        "\n",
        "-  **Non-linear Solvers (fsolve, minimize):**\n",
        "\n",
        "\"fsolve \"from SciPy's \"optimize\" module is used for finding the roots of non-linear equations. It's employed in 'the' code to solve for \"wc_bar_ll\" and \"pd_bar_ll\".\n",
        "\n",
        "\"minimize\" is also from SciPy's optimize module and is used for minimizing (or maximizing) objective functions, possibly subject to constraints. In 'the' code, it's used in the \"result_wc\", \"result_pd\", and \"result_pf\" variables for optimization problems.\n",
        "\n",
        "- **Interpolation (\"interpn\"):**\n",
        "\n",
        "\"interpn\" is used for multidimensional interpolation. This method is utilized in functions like \"constraints_WC\" and \"constraints_PD\" to interpolate over grids of values.\n",
        "\n",
        "- **Gaussian Quadrature (\"gauss_hermite_2\"):**\n",
        "\n",
        "This numerical integration technique is used to compute the integral of a function. In 'the' code, the \"gauss_hermite_2\" function computes the nodes (x) and weights (w) for Gaussian quadrature, particularly useful for integrating functions over the normal distribution.\n",
        "\n",
        "- **Numerical Linear Algebra (\"np.linalg.eig\"):**\n",
        "\n",
        "Used in the \"gauss_hermite_2\" function to compute eigenvalues and eigenvectors, which are essential for Gaussian quadrature.\n",
        "\n",
        "- **Chebyshev Polynomials (in \"chebychev\" function):**\n",
        "\n",
        "This part of 'the' code implements Chebyshev polynomial approximation, which is a method for function approximation. Chebyshev polynomials are used to approximate functions in a way that minimizes the maximum error.\n",
        "\n",
        "- **Random Number Generation (\"np.random.randn\"):**\n",
        "\n",
        "Used for generating random samples from the normal distribution, particularly in the \"simul_states\" function for simulating different states based on the specified parameters.\n",
        "\n",
        "- **Meshgrid Creation (\"np.meshgrid\"):**\n",
        "\n",
        "This method is used to create coordinate matrices from coordinate vectors, as seen in \"x_grid3D\", \"sx_grid3D\", \"sc_grid3D\" and similar variables. It's essential for creating grids over which functions are evaluated or interpolated"
      ]
    },
    {
      "cell_type": "markdown",
      "metadata": {
        "id": "5qLkTBDQgXQM"
      },
      "source": [
        "### 2. Model Framework\n",
        "This paper consider a standard asset pricing model with a representative agent and recursive preferences as in Epstein and Zin (1989) and Weil (1990). Indirect utility at time t, Vt, is given recursively by\n",
        "We consider a standard asset pricing model with a representative agent and recursive preferences as in Epstein and Zin (1989) and Weil (1990). Indirect utility at time $\\ t $, $\\\n",
        "  V_t $, is given recursively by:\n",
        "\n",
        "\n",
        "$$\n",
        "V_t = \\left[ (1 - \\delta)C_t^\\frac{1-\\gamma}{\\theta} + \\delta \\mathbb{E}_t \\left[ V_{t+1}^\\frac{1-\\gamma}{\\theta} \\right] \\right]^\\frac{\\theta}{1-\\gamma}\n",
        "$$\n",
        "\n",
        "$$\n",
        "(\\theta = \\frac{1 - \\gamma}{1 - \\frac{1}{\\psi}})\n",
        "$$\n",
        "\n",
        "\n",
        "\n"
      ]
    },
    {
      "cell_type": "markdown",
      "metadata": {
        "id": "KaR5VIzkmKuz"
      },
      "source": [
        "\n",
        "\n",
        "In this parameterization, $\\ C_t $ is consumption,  $\\delta$  is the time discount factor, $\\gamma $ determines the level of relative risk aversion, and\n",
        "$ \\theta = \\frac{1 - \\gamma}{1 - \\frac{1}{\\psi}} $ , where  $\\psi $ is the elasticity of intertemporal substitution (EIS). The parameters  $\\gamma$ and $\\psi $ are required to satisfy $\\ 0$ < $\\gamma$ < $\\psi $, and $\\psi$ $\\neq 1 $. For $\\theta $ = 1 , the agent has standard constant relative risk aversion (CRRA) preferences. Values of $\\gamma$ > 1/$\\psi$ indicate a preference for the early resolution of risk and values of $\\gamma$ < 1 / $\\psi$ indicate a preference for late resolution. The general asset pricing equation to price any asset $\\ i$ with ex-dividend price $\\ P_{i,t} $ and dividend $\\ D_{i,t}$ is given by:\n",
        "\n",
        "$$\n",
        "\\mathbb{E}_t[M_{t+1}R_{i,t+1}] = 1,\n",
        "$$\n",
        "\n",
        "where: $\\ R_{i,t+1} = \\frac{P_{i,t+1} + D_{i,t+1}}{P_{i,t}} $ For recursive preferences, the stochastic discount factor \\( M_{t+1} \\) is given by:\n",
        "\n",
        "$$\n",
        "M_{t+1} = \\delta \\left( \\frac{C_{t+1}}{C_t} \\right)^{-\\frac{1}{\\psi}} \\left( \\mathbb{E}_t \\left[ \\left( \\frac{V_{t+1}}{V_t} \\right)^{1-\\gamma} \\right] \\right)^{\\frac{1}{1-\\gamma}}\n",
        "$$\n",
        "\n",
        "\n",
        "\n"
      ]
    },
    {
      "cell_type": "markdown",
      "metadata": {
        "id": "bImWtajCvD_m"
      },
      "source": [
        "\n",
        "(4):\n",
        "$$\n",
        " W_t = \\frac{V_t^{1 - \\frac{1}{\\psi}}}{(1 - \\delta)C_t^{-\\frac{1}{\\psi}}}\n",
        "$$\n",
        "\n",
        "(5):\n",
        "$$\n",
        " M_{t+1} = \\delta^{\\theta} \\left( \\frac{C_{t+1}}{C_t} \\right)^{-\\frac{\\theta}{\\psi}}  R_{w,t+1}^{\\theta-1}\n",
        "$$\n",
        "\n",
        "\n",
        "(6):\n",
        "$$\n",
        " E_t \\left[ \\delta^{\\theta} \\left( \\frac{C_{t+1}}{C_t} \\right)^{-\\frac{\\theta}{\\psi}} R_{w,t+1}^{\\theta} \\right] = 1\n",
        "$$\n",
        "\n",
        " they define $\\ R_{m,t+1} $ as the gross return to the claim on aggregate dividends with log didvidend growth , $\\Delta d_{t+1} $. the gross risk free return is given by\n",
        "\n"
      ]
    },
    {
      "cell_type": "markdown",
      "metadata": {
        "id": "y2AiYdWtuJzj"
      },
      "source": [
        "The gross risk-free return is given by:\n",
        "$$ R_{t+1}^{f} = E_t(M_{t+1})^{-1} $$\n",
        "\n",
        "The unconditional equity premium is defined as:\n",
        "$$ E(R_{m,t} - R_{f,t}) $$\n",
        "\n",
        "The specification of log consumption growth, $ \\Delta c_{t+1} $ and $ \\Delta d_{t+1} $\n",
        "$$\\Delta c_{t+1} = \\mu_e + x_t + \\phi_c \\sigma_t \\eta_{c,t+1} $$\n",
        "$$ x_{t+1} = \\rho x_t + \\phi_x \\sigma_t \\eta_{x,t+1} $$\n",
        "$$ \\sigma_{t+1}^2 = \\overline{\\sigma}^2 (1 - \\nu) + \\nu \\sigma_t^2 + \\phi_\\sigma \\omega_{t+1} $$\n",
        "$$\\Delta d_{t+1} = \\mu_d + \\phi x_t + \\phi_d \\sigma_t \\eta_{d,t+1} + \\phi_{d,c} \\sigma_t \\eta_{c,t+1} $$\n",
        "\n",
        "With $$ \\eta_{c,t+1}, \\eta_{x,t+1}, \\eta_{d,t+1}, \\omega_{t+1} \\sim \\text{i.i.d.} \\ N(0, 1) $$\n",
        "\n",
        "The standard approach to solving the long-run risk models in the finance literature is to log-linearize the model by construction. However, log-linearization needs to include the influence of higher-order dynamics. That is, it does not attempt to approximate the nonlinear features of the exact solution. But what if these features matter quantitatively for equilibrium outcomes? Does log-linearization still deliver sufficiently accurate approximations of the exact solution?\n"
      ]
    },
    {
      "cell_type": "markdown",
      "metadata": {
        "id": "lvj4RCiHTM9y"
      },
      "source": [
        "### 3. Solving the SSY model\n",
        "\n",
        "This part solve the Bayesian estimation of the Bansal and Yaron model.\n",
        "\n",
        "\n",
        "**3.1 Load packages**\n",
        "\n",
        "**3.2 Set timer and seed**\n",
        "\n",
        "\n",
        "**3.3 Set parameters**\n",
        "\n",
        "\n",
        "3.3.1 Create an instance of the Parameters class\n",
        "\n",
        "3.3.4. Compute log linear solution\n",
        "\n",
        "3.4.1 Define functions for fsolve\n",
        "\n",
        "3.4.1.1 Define the mean wealth-consumtpion\n",
        "\n",
        "3.4.1.2 Test mean_wc_LL function with initial value\n",
        "\n",
        "3.4.1.3  Define the mean price-dividend\n",
        "\n",
        "3.4.1.4 Test mean_pd_ll function with initial values\n",
        "\n",
        "3.4.2 Solve for mean wealth-consumption and price-dividend ratios\n",
        "\n",
        "\n",
        "**3.5. Specify Settings for Global Solution**\n",
        "\n",
        "\n",
        "3.5.1 Define functions Chebychev, GaussHermite_2 and Simul_states\n",
        "\n",
        "3.5.1.1 Chebychev\n",
        "\n",
        "3.5.1.2 Test the chebychev function\n",
        "\n",
        "3.5.1.3 GaussHermite_2\n",
        "\n",
        "3.5.1.4 Test GaussHermite_2 function\n",
        "\n",
        "3.5.1.5 Simul_states\n",
        "\n",
        "3.5.1.6 Test simul_states funtio\n",
        "\n",
        "3.5.2 Set parameters for Simulate states & compute the approximation range\n",
        "\n",
        "3.5.3 Compute max & min values\n",
        "\n",
        "3.5.4 Approximation degree & chebychev nodes\n",
        "\n",
        "3.5.5 Compute Gauss-Hermite quadrature nodes and weights\n",
        "\n",
        "3.5.6 Compute weights for 3D quadrature with corresponding state grid\n",
        "\n",
        "3.5.7 Compute weights for 4D quadrature with corresponding state grid\n",
        "\n",
        "\n",
        "**3.6. Compute Projection Solution**\n",
        "  \n",
        "\n",
        "3.6.1 Compute projection 3D\n",
        "  \n",
        "3.6.2 Compute projection 4D\n",
        "  \n",
        "3.6.3 Create the 3D & 4D rectangular grid\n",
        "  \n",
        "3.6.4 Calculate wc_LL, pd_LL, pf_LL\n",
        "  \n",
        "3.6.5 Define constraints_WC\n",
        "  \n",
        "3.6.6 Initial values, set solver and solve for optimization problem for constraint_WC\n",
        "  \n",
        "3.6.7 Extract solution**\n",
        "  \n",
        "3.6.8 Define constraints_PD\n",
        "  \n",
        "3.6.9 Compute log price-dividend ratio, solve optimization roblem for constraints_PD & extract solution\n",
        "  \n",
        "3.6.10 Define constraints_PF\n",
        "  \n",
        "3.6.11 Compute risk free rate, solve the optimization problem & extract solution\n",
        "\n",
        "3.6.12 Define wrap_vec function\n",
        "\n",
        "\n",
        "**3.7 Run simulations for Annualized moments**\n",
        "\n",
        "\n",
        "3.7.1 Initialize parameters & simulate states"
      ]
    },
    {
      "cell_type": "markdown",
      "metadata": {
        "id": "9RGw18Z2u8VI"
      },
      "source": [
        "**3.1 Load packages**"
      ]
    },
    {
      "cell_type": "code",
      "execution_count": null,
      "metadata": {
        "id": "yL-yHnCEI9xd"
      },
      "outputs": [],
      "source": [
        "import numpy as np\n",
        "from scipy.optimize import fsolve\n",
        "from scipy.optimize import minimize\n",
        "from scipy.interpolate import interpn\n",
        "import matplotlib.pyplot as plt\n",
        "from time import process_time\n",
        "import random"
      ]
    },
    {
      "cell_type": "markdown",
      "metadata": {
        "id": "Vsuxkelou8VK"
      },
      "source": [
        "**3.2 Set timer and seed**"
      ]
    },
    {
      "cell_type": "code",
      "execution_count": null,
      "metadata": {
        "id": "ajVIB2Siu8VK"
      },
      "outputs": [],
      "source": [
        "timer=process_time()"
      ]
    },
    {
      "cell_type": "code",
      "execution_count": null,
      "metadata": {
        "id": "l6ITQBUnu8VK"
      },
      "outputs": [],
      "source": [
        "random.seed(100)"
      ]
    },
    {
      "cell_type": "markdown",
      "metadata": {
        "id": "anqViuDKciPE"
      },
      "source": [
        "**3.3 Setting Parameters**:\n",
        "\n",
        "Describe the parameters set as the beginning as the MATLAB code in Python:\n",
        "\n",
        "\n",
        "$$\\delta = 0.999$$\n",
        "\n",
        "$$\\gamma = 8.598$$\n",
        "\n",
        "$$\\psi = 1.935$$\n",
        "\n",
        "$$\\mu = 0.0016$$\n",
        "\n",
        "$$\\rho = 0.9995$$\n",
        "\n",
        "$$mud = 0.001 $$\n",
        "\n",
        "$$\\Phi = 4.147$$\n",
        "\n",
        "$$\\phi_dc = 1.544$$\n",
        "\n",
        "$$\\sigma_bar = 0.0032$$\n",
        "\n",
        "$$\\nu_x = 0.9988$$\n",
        "\n",
        "$$\\nu_c  = 0.9958 $$\n",
        "\n",
        "$$\\nu_d = 0.9841 $$\n",
        "\n",
        "$$ \\phi_{sc} = 2 \\times (\\omega_c \\times \\sigma_{\\text{bar}})^2 \\times \\sigma_{hc} $$\n",
        "\n",
        "$$ \\omega_x = 0.2315 \\times \\sqrt{1 - \\rho^2} $$\n",
        "\n",
        "\n",
        "$$ \\omega_c = 1 $$\n",
        "$$  \\omega_d = 5.023 $$\n",
        "$$  \\sigma_{hx} = 0.0039^{0.5} $$\n",
        "$$  \\sigma_{hc} = 0.0088^{0.5} $$\n",
        "$$  \\sigma_{hd} = 0.0393^{0.5} $$\n",
        "\n",
        "$$ \\phi_{sc} = 2 \\times (\\omega_c \\times \\sigma_{\\text{bar}})^2 \\times \\sigma_{hc} $$\n",
        "\n",
        "\n",
        "$$ \\phi_{sx} = 2 \\times (\\omega_x \\times \\sigma_{\\text{bar}})^2 \\times \\sigma_{hx} $$\n",
        "$$ \\phi_{sd} = 2 \\times (\\omega_d \\times \\sigma_{\\text{bar}})^2 \\times \\sigma_{hd} $$\n",
        "$$ \\theta = \\frac{1 - \\gamma}{1 - \\frac{1}{\\psi}} $$\n"
      ]
    },
    {
      "cell_type": "code",
      "execution_count": null,
      "metadata": {
        "id": "D_lqqHpPu8VK"
      },
      "outputs": [],
      "source": [
        "class Parameters:\n",
        "    def __init__(self):\n",
        "        self.delta = 0.999\n",
        "        self.gamma = 8.598\n",
        "        self.psi = 1.935\n",
        "        self.mu = 0.0016\n",
        "        self.rho = 0.9995\n",
        "        self.mud = 0.001\n",
        "        self.Phi = 4.147\n",
        "        self.phi_dc = 1.544\n",
        "        self.sigma_bar = 0.0032\n",
        "        self.nu_x = 0.9988\n",
        "        self.nu_c = 0.9958\n",
        "        self.nu_d = 0.9841\n",
        "        self.omega_x = 0.2315 * np.sqrt(1 - self.rho**2)\n",
        "        self.omega_c = 1\n",
        "        self.omega_d = 5.023\n",
        "        self.sigma_hx = np.sqrt(0.0039)\n",
        "        self.sigma_hc = np.sqrt(0.0088)\n",
        "        self.sigma_hd = np.sqrt(0.0393)\n",
        "        self.phi_sc = 2 * (self.omega_c * self.sigma_bar)**2 * self.sigma_hc\n",
        "        self.phi_sx = 2 * (self.omega_x * self.sigma_bar)**2 * self.sigma_hx\n",
        "        self.phi_sd = 2 * (self.omega_d * self.sigma_bar)**2 * self.sigma_hd\n",
        "        self.theta = (1 - self.gamma) / (1 - 1 / self.psi)"
      ]
    },
    {
      "cell_type": "markdown",
      "metadata": {
        "id": "0EmHJmqpWaMW"
      },
      "source": [
        "1.  Create an instance of the Parameters class"
      ]
    },
    {
      "cell_type": "code",
      "execution_count": null,
      "metadata": {
        "id": "ywvoGBydu8VL",
        "outputId": "b54c7449-61a5-45ed-a3b2-e9b6b71a859f"
      },
      "outputs": [
        {
          "name": "stdout",
          "output_type": "stream",
          "text": [
            "phi_sc: 1.921194295223677e-06\n",
            "phi_sx: 6.852604377213401e-11\n",
            "phi_sd: 0.00010243599347809164\n",
            "theta: -15.72420320855615\n"
          ]
        }
      ],
      "source": [
        "params = Parameters()\n",
        "print(\"phi_sc:\", params.phi_sc)\n",
        "print(\"phi_sx:\", params.phi_sx)\n",
        "print(\"phi_sd:\", params.phi_sd)\n",
        "print(\"theta:\", params.theta)"
      ]
    },
    {
      "cell_type": "markdown",
      "metadata": {
        "id": "M3EbcbDAV4jZ"
      },
      "source": [
        "**3.4 Compute log-linear solution**\n",
        "\n",
        "Our start point is to define the mean_wc_LL and mean_pd_LL functions which are a part of the asset pricing model that incorporates long-run risks. We furthur use these functions in the numerical optimization process to solve for the wealth-consumption (wc_bar_11) and price-dividend (pd_bar_11)ratios. The significance of these ratios extends to their role in understanding the impact of long-run risks on asset prices, where the wc ratio reflects intertemporal choices and pc ratio is a measure in financial economics, revealing asset valuations relative to income streams. The use of log-linear solutions facilitates the analysis of the model's behaviour, particularlyartly"
      ]
    },
    {
      "cell_type": "markdown",
      "metadata": {
        "id": "BZXepmZIXQbr"
      },
      "source": [
        "**3.4.1 Define functions for fsolve**\n",
        "\n",
        "**3.4.1.1 Define the mean wealth-consumtpion**\n",
        "\n",
        "since we solve for the log wealth consumption ratio, we define it as\n",
        "\n",
        "$$ zw(x) = \\log\\left(\\frac{W(x)}{C(x)}\\right) $$\n",
        "\n",
        "where W presents the wealth, C presents consumption and x presents the long run risk.\n",
        "\n",
        "\n",
        "then we write the state-dependent log return of the aggregate consumption claim as\n",
        "\n",
        "$$ rw(x' | x) = zw(x') - \\log\\left(e^{zw(x)} - 1\\right) + c(x' | x) $$\n",
        "\n",
        "where log(e^zw(x) − 1) adjusts the return calculation to account for consumption at the current state and c(x'|x) denotes the change in consumption which is the difference in the logarithm of consumption at two different states.\n",
        "\n",
        "with linearization constants\n",
        "\n",
        "$$ \\kappa_{i,1} = \\frac{e^{z_i}}{1 + e^{z_i}} $$\n",
        "\n",
        "$$ \\kappa_{i,0} = -\\log\\left((1 - \\kappa_{i,1})^{1 - \\kappa_{i,1}} \\kappa_{i,1}^{\\kappa_{i,1}}\\right) $$"
      ]
    },
    {
      "cell_type": "code",
      "execution_count": null,
      "metadata": {
        "id": "XPSHymBVu8VM"
      },
      "outputs": [],
      "source": [
        "def mean_wc_LL(x, params):\n",
        "    k1 = np.exp(x) / (1 + np.exp(x))\n",
        "    k0 = np.log(1 + np.exp(x)) - k1 * x\n",
        "\n",
        "    A1 = (1 - 1 / params.psi) / (1 - k1 * params.rho)\n",
        "    A2X = (params.theta / 2) * (k1 * A1) ** 2 / (1 - k1 * params.nu_x)\n",
        "    A2C = (params.theta / 2) * (1 - 1 / params.psi) ** 2 / (1 - k1 * params.nu_c)\n",
        "\n",
        "    A0 = (np.log(params.delta) + k0 + params.mu * (1 - 1 / params.psi) + k1 * A2X * (params.omega_x * params.sigma_bar) ** 2 * (1 - params.nu_x) +\n",
        "          k1 * A2C * (params.omega_c * params.sigma_bar) ** 2 * (1 - params.nu_c) + (params.theta / 2) * ((k1 * A2X * params.phi_sx) ** 2 + (k1 * A2C * params.phi_sc) ** 2)) / (1 - k1)\n",
        "\n",
        "    diff = x - A0 - A2C * (params.omega_c * params.sigma_bar) ** 2 - A2X * (params.omega_x * params.sigma_bar) ** 2\n",
        "\n",
        "    resl_ll = {'k1': k1, 'k0': k0, 'A1': A1, 'A2X': A2X, 'A2C': A2C, 'A0': A0}\n",
        "\n",
        "    return diff, resl_ll"
      ]
    },
    {
      "cell_type": "markdown",
      "metadata": {
        "id": "mv9MS6cVXwuh"
      },
      "source": [
        "**3.4.1.2 Test mean_wc_LL function with initial value**"
      ]
    },
    {
      "cell_type": "code",
      "execution_count": null,
      "metadata": {
        "id": "pOSZ3RPgu8VM",
        "outputId": "e154f5b1-fdf6-439c-e1f4-a15ee0d26217"
      },
      "outputs": [
        {
          "name": "stdout",
          "output_type": "stream",
          "text": [
            "Result: -1.0192906380846356\n",
            "Details: {'k1': 0.9525741268224333, 'k0': 0.1908649711064423, 'A1': 10.087314057155357, 'A2X': -14946.120390543756, 'A2C': -35.695330623445294, 'A0': 4.019664358420967}\n"
          ]
        }
      ],
      "source": [
        "x_initial = 3\n",
        "result, details = mean_wc_LL(x_initial, params)\n",
        "print(\"Result:\", result)\n",
        "print(\"Details:\", details)"
      ]
    },
    {
      "cell_type": "markdown",
      "metadata": {
        "id": "StA5DOwvX_an"
      },
      "source": [
        "**3.4.1.3 Define the mean price-dividend**\n",
        "\n",
        "The log price-dividend ratio of asset i, zi,t, is a linear function of the state variables\n",
        "\n",
        " $$ z_{i,t} = A_{0,i} + A_i y_t $$\n",
        "\n",
        "where A0,i is a constant specific to asset (i), Ai is a vector of linearization coefficients also specific to asset (i) and yt is the state vector describing the economy\n",
        "\n",
        "\n",
        "The log return of the asset i, ri,t+1, is then defined as\n",
        "\n",
        "$$ r_{i,t+1} = \\log(e^{z_{i,t+1}} + 1) - z_{i,t} + d_{i,t+1} $$\n",
        "\n",
        "where di,t+1 is the log dividend growth rate between time t and t+1\n",
        "\n",
        "with linearization constants\n",
        "\n",
        "$$ \\kappa_{i,1} = \\frac{e^{z_i}}{1 + e^{z_i}} $$\n",
        "\n",
        "$$ \\kappa_{i,0} = -\\log\\left((1 - \\kappa_{i,1})^{1 - \\kappa_{i,1}} \\kappa_{i,1}^{\\kappa_{i,1}}\\right) $$\n",
        "\n",
        "We also compute the coefficient for the risk free rate\n",
        "\n",
        "$$ r_{f,t} = B_0 + B_1 x_t + B_{1,!x!} x_{t-1} + B_{2,cr} c_{r,t}^1 + B_{2,xr} x_{r,t}^2 $$"
      ]
    },
    {
      "cell_type": "code",
      "execution_count": null,
      "metadata": {
        "id": "nU3NJcPAu8VN"
      },
      "outputs": [],
      "source": [
        "def mean_pd_LL(x, params, res_ll):\n",
        "    k1m = np.exp(x) / (1 + np.exp(x))\n",
        "    k0m = np.log(1 + np.exp(x)) - k1m * x\n",
        "\n",
        "    A1M = (params.Phi - 1 / params.psi) / (1 - k1m * params.rho)\n",
        "\n",
        "    A2CM = (0.5 * (params.theta * (1 - 1 / params.psi) - 1 + params.phi_dc)**2 +\n",
        "            (params.theta - 1) * (res_ll['k1'] * params.nu_c - 1) * res_ll['A2C']) / (1 - k1m * params.nu_c)\n",
        "\n",
        "    A2XM = (0.5 * ((params.theta - 1) * res_ll['k1'] * res_ll['A1'] + k1m * A1M)**2 +\n",
        "            (params.theta - 1) * (res_ll['k1'] * params.nu_x - 1) * res_ll['A2X']) / (1 - k1m * params.nu_x)\n",
        "\n",
        "    A2DM = 0.5 / (1 - k1m * params.nu_d)\n",
        "\n",
        "    A0M_1 = (params.theta * np.log(params.delta) +\n",
        "             (params.theta - 1) * (res_ll['k0'] + res_ll['A0'] * (res_ll['k1'] - 1) +\n",
        "                                   res_ll['k1'] * res_ll['A2X'] * (1 - params.nu_x) * (params.omega_x * params.sigma_bar)**2 +\n",
        "                                   res_ll['k1'] * res_ll['A2C'] * (1 - params.nu_c) * (params.omega_c * params.sigma_bar)**2) +\n",
        "             params.mu * (params.theta * (1 - 1 / params.psi) - 1) +\n",
        "             params.mud + k0m +\n",
        "             k1m * A2XM * (1 - params.nu_x) * (params.omega_x * params.sigma_bar)**2 +\n",
        "             k1m * A2CM * (1 - params.nu_c) * (params.omega_c * params.sigma_bar)**2 +\n",
        "             k1m * A2DM * (1 - params.nu_d) * (params.omega_d * params.sigma_bar)**2)\n",
        "\n",
        "    A0M_2 = 0.5 * (k1m * A2XM * params.phi_sx + (params.theta - 1) * res_ll['k1'] * res_ll['A2X'] * params.phi_sx)**2 + \\\n",
        "            0.5 * (k1m * A2CM * params.phi_sc + (params.theta - 1) * res_ll['k1'] * res_ll['A2C'] * params.phi_sc)**2 + \\\n",
        "            0.5 * (k1m * A2DM * params.phi_sd)**2\n",
        "\n",
        "    A0M = (A0M_1 + A0M_2) / (1 - k1m)\n",
        "\n",
        "    diff = x - A0M - A2CM * (params.omega_c * params.sigma_bar)**2 - A2XM * (params.omega_x * params.sigma_bar)**2 - A2DM * (params.omega_d* params.sigma_bar)**2\n",
        "\n",
        "\n",
        "    res_ll['A1F'] = 1 / params.psi\n",
        "    res_ll['A0F'] = -params.theta * np.log(params.delta) - (params.theta - 1) * (res_ll['k0'] +\n",
        "                                                                             (res_ll['k1'] - 1) * res_ll['A0'] +\n",
        "                                                                             res_ll['k1'] * res_ll['A2X'] * (\n",
        "                                                                                     params.omega_x * params.\n",
        "                                                                                 sigma_bar)**2 * (1 - params.nu_x) +\n",
        "                                                                             res_ll['k1'] * res_ll['A2C'] * (\n",
        "                                                                                     params.omega_c * params.\n",
        "                                                                                 sigma_bar)**2 * (1 - params.nu_c)-\n",
        "                                                                                params.mu * (\n",
        "                                                                                     params.theta * (1 - 1 / params.psi) - 1) -\n",
        "                                                                             0.5 * ((params.theta - 1) * res_ll['k1'] * res_ll[\n",
        "                                                                                 'A2X'] * params.phi_sx)**2 -\n",
        "                                                                             0.5 * ((params.theta - 1) * res_ll['k1'] * res_ll[\n",
        "                                                                                 'A2C'] * params.phi_sc)**2)\n",
        "\n",
        "    res_ll['A2XF'] = -(params.theta - 1) * (res_ll['k1'] * params.nu_x - 1) * res_ll['A2X'] - 0.5 * (\n",
        "            (params.theta - 1) * res_ll['k1'] * res_ll['A1'])**2\n",
        "    res_ll['A2CF'] = -(params.theta - 1) * (res_ll['k1'] * params.nu_c - 1) * res_ll['A2C'] - 0.5 * (\n",
        "            params.theta * (1 - 1 / params.psi) - 1)**2\n",
        "\n",
        "\n",
        "    res_ll['k1_m'] = k1m\n",
        "    res_ll['k0_m'] = k0m\n",
        "    res_ll['A1M'] = A1M\n",
        "    res_ll['A2CM'] = A2CM\n",
        "    res_ll['A2XM'] = A2XM\n",
        "    res_ll['A2DM'] = A2DM\n",
        "    res_ll['A0M'] = A0M\n",
        "\n",
        "    return diff, res_ll\n",
        "\n",
        "options = {\n",
        "    'xtol': 1e-20,\n",
        "    'maxfev': int(1e20)\n",
        "}\n"
      ]
    },
    {
      "cell_type": "markdown",
      "metadata": {
        "id": "gLAVpcE_YmDt"
      },
      "source": [
        "**4.3.1.4 Test mean_pd_ll function with initial values**"
      ]
    },
    {
      "cell_type": "code",
      "execution_count": null,
      "metadata": {
        "id": "jCB2c3Iau8VN",
        "outputId": "a4c98a20-66f9-43ec-b71d-0b280519a252"
      },
      "outputs": [
        {
          "name": "stdout",
          "output_type": "stream",
          "text": [
            "Result: 1858.4731661984158\n",
            "Updated res_ll: {'k1': 1, 'k0': 2, 'A1': 3, 'A2X': 4, 'A2C': 5, 'A0': 6, 'A1F': 0.5167958656330749, 'A0F': 33.66274924585436, 'A2XF': -1258.72565450026, 'A2CF': -37.31401026737968, 'k1_m': 0.9820137900379085, 'k0_m': 0.09009476776617564, 'A1M': 196.46920650660329, 'A2CM': 1141.1082832968484, 'A2XM': 531745.1627472383, 'A2DM': 14.880850861797345, 'A0M': -1854.4889875136705}\n"
          ]
        }
      ],
      "source": [
        "res_ll = {'k1': 1, 'k0': 2, 'A1': 3, 'A2X': 4, 'A2C': 5, 'A0': 6}\n",
        "x_initial = 4\n",
        "result, updated_res_ll = mean_pd_LL(x_initial, params, res_ll.copy())\n",
        "print(\"Result:\", result)\n",
        "print(\"Updated res_ll:\", updated_res_ll)\n"
      ]
    },
    {
      "cell_type": "markdown",
      "metadata": {
        "id": "o3Y4rQiBYuFf"
      },
      "source": [
        "**3.4.2 Solve for mean wealth-consumption and price-dividend ratios**\n",
        "\n",
        "**Compute log-linearization coefficients**\n",
        "\n",
        "Volatility dynamic that follows Gaussian dynamics:\n",
        "\n",
        "$$ \\sigma^2_{i,t} \\approx 2(\\phi_i \\bar{\\sigma})^2 h_{i,t} + (\\phi_i \\bar{\\sigma})^2 $$\n",
        "\n",
        "\n",
        "\n",
        "\n",
        "which in turn yields to:\n",
        "\n",
        "$$ \\sigma^2_{i,t+1} = \\sigma_i^2 (1 - \\nu_i) + \\nu_i \\sigma^2_{i,t} + \\phi \\sigma_i \\omega_{i,t+1} $$\n",
        "\n",
        "\n",
        "\n",
        "This equation provides a linear approximatin for the square of the volatility σ^2i, which is used to derive analytical solutions for log-linearization coefficients.\n",
        "The approximation is expressed as a function of the log-volatility state hi using the parameters ϕ and $ \\overline{\\sigma} $\n",
        "\n",
        "where: $ \\sigma^2_{i,t+1} $\n",
        " represents the variance of the volatility process for the next period,\n",
        "\n",
        "and $ \\overline{\\sigma}^2_{i} $\n",
        "represents the log run mean of the variance for process i"
      ]
    },
    {
      "cell_type": "code",
      "execution_count": null,
      "metadata": {
        "colab": {
          "base_uri": "https://localhost:8080/"
        },
        "id": "ZOWx_rGdYg-p",
        "outputId": "49db5f55-cc14-4638-e13d-22fb80babb62"
      },
      "outputs": [
        {
          "name": "stdout",
          "output_type": "stream",
          "text": [
            "[6.49116742]\n",
            "[5.32750335]\n"
          ]
        }
      ],
      "source": [
        "wc_bar_ll = fsolve(lambda x: mean_wc_LL(x, params)[0], 6.5)\n",
        "\n",
        "# Compute log-linearization coefficients\n",
        "_, res_ll= mean_wc_LL(wc_bar_ll, params)\n",
        "\n",
        "pd_bar_ll = fsolve(lambda x: mean_pd_LL(x, params, res_ll)[0], 7)\n",
        "# Compute log-linearization coefficients\n",
        "_, res_ll= mean_pd_LL(pd_bar_ll, params, res_ll)\n",
        "\n",
        "print(wc_bar_ll)\n",
        "print(pd_bar_ll)"
      ]
    },
    {
      "cell_type": "markdown",
      "metadata": {
        "id": "LxKonlpQumuf"
      },
      "source": [
        "- Verifying Consistency in Numerical Computations Across Python and MATLAB Translations\n",
        "In translating MATLAB code lines 66 and 80 to Python, we achieved identical results for crucial computations, including the res_LL data structure. Utilizing Python's fsolve from the SciPy library, we successfully mirrored MATLAB's fsolve functionality. The mean wealth-consumption ratio (wc_bar_ll) calculation yielded a consistent result of 6.49116742 in both Python and MATLAB. Similarly, for the mean price-dividend ratio (pd_bar_ll), both languages produced an exact match with a result of 5.32750. Furthermore, the res_LL structure, which contains essential coefficients and parameters, also matched ideally across both platforms. This consistency in outcomes, including the precise replication of the res_LL structure, confirms the accuracy of our translation efforts, ensuring that the Python version accurately reproduces the complex numerical computations conducted initially in MATLAB."
      ]
    },
    {
      "cell_type": "markdown",
      "metadata": {
        "id": "P_jJn3G11XFT"
      },
      "source": [
        "$$ k_1: 0.99848552 $$\n",
        "$$ k_0: 0.01134637 $$\n",
        "$$ A_1: 239.95562572 $$\n",
        "$$ A_{2X}: -1.66375075 \\times 10^8 $$\n",
        "$$ A_{2C}: -321.59322676 $$\n",
        "$$ A_0: 6.5857418 $$\n",
        "$$ A_{1F}: 0.5167958656330749 $$\n",
        "$$ A_{0F}: -0.06875279 $$\n",
        "$$ A_{2XF}: -480021.68270579 $$\n",
        "$$ A_{2CF}: -6.26230749 $$\n",
        "$$ k_{1_m}: 0.99516729 $$\n",
        "$$ k_{0_m}: 0.03059071 $$\n",
        "$$ A_{1M}: 681.05136103 $$\n",
        "$$ A_{2CM}: -645.89099302 $$\n",
        "$$ A_{2XM}: -3.32853073 \\times 10^8 $$\n",
        "$$ A_{2DM}: 24.20619361 $$\n",
        "$$ A_{0M}: 5.51048 $$"
      ]
    },
    {
      "cell_type": "code",
      "execution_count": null,
      "metadata": {
        "colab": {
          "base_uri": "https://localhost:8080/"
        },
        "id": "6u3neVu_z4R6",
        "outputId": "cc8f235a-b64e-4c35-b134-5f72f2f515e1"
      },
      "outputs": [
        {
          "data": {
            "text/plain": [
              "{'k1': array([0.99848552]),\n",
              " 'k0': array([0.01134637]),\n",
              " 'A1': array([239.95562572]),\n",
              " 'A2X': array([-1.66375075e+08]),\n",
              " 'A2C': array([-321.59322676]),\n",
              " 'A0': array([6.5857418]),\n",
              " 'A1F': 0.5167958656330749,\n",
              " 'A0F': array([-0.06875279]),\n",
              " 'A2XF': array([-480021.68270579]),\n",
              " 'A2CF': array([-6.26230749]),\n",
              " 'k1_m': array([0.99516729]),\n",
              " 'k0_m': array([0.03059071]),\n",
              " 'A1M': array([681.05136103]),\n",
              " 'A2CM': array([-645.89099302]),\n",
              " 'A2XM': array([-3.32853073e+08]),\n",
              " 'A2DM': array([24.20619361]),\n",
              " 'A0M': array([5.51048233])}"
            ]
          },
          "execution_count": 19,
          "metadata": {},
          "output_type": "execute_result"
        }
      ],
      "source": [
        "res_ll"
      ]
    },
    {
      "cell_type": "markdown",
      "metadata": {
        "id": "Qx72DBCcaQ2U"
      },
      "source": [
        "**3.4 Specify Settings for Global Solution**\n",
        "\n",
        "The code systematically assesses how risk preferences and economic shocks impact asset pricing in this part, offering a comprehensive perspective beyond linear approximations.\n",
        "\n",
        "We first define the functions translated. The Chebyshev technique is pivotal for evaluating value functions and computing expectations over future states in dynamic programming. Chebyshev polynomials, adept at handling non-linear functions, provide a nuanced representation of complex economic dynamics, capturing curvature accurately.\n",
        "\n",
        "Further, the GaussHermite_2 is employed for numerical integration in evaluating expectations with normally distributed shocks. This is crucial for asset pricing models with long-run risks, allowing the calculation of expected values under uncertainty. The method, emphasizing the distribution tails, accommodates higher-order risk preferences.\n",
        "\n",
        "The code includes Simul_states to simulate the model's state over time, considering time-series properties to capture autocorrelations and volatilities, contributing to higher-order effects in asset pricing.\n",
        "\n",
        "\n",
        "**3.4.1 Define functions Chebychev, GaussHermite_2 and Simul_states**\n",
        "\n",
        "**3.4.1.1 Chebychev function**\n",
        "\n",
        "\n",
        "The Chebyshev function was initially defined within the function file. However, its application is not realized within this segment of the code. Instead, a more straightforward computation of the Chebyshev function is employed at a subsequent stage in the code. Despite its non-utilization at this juncture, providing a translation and elucidation of the function code for comprehensive understanding is pertinent.\n",
        "\n",
        "We obtain the Chebyshev polynomials via the recursive relationship: correlations and volatilities, contributing to higher-order effects in asset pricing.\n",
        "\n",
        "\n",
        "$$ T_0(\\xi) = 1, \\quad T_1(\\xi) = \\xi, \\quad T_{k+1}(\\xi) = 2\\xi T_k(\\xi) - T_{k-1}(\\xi) $$\n",
        "\n",
        "\n",
        "This relationship defines a sequence of polynomials that are particularly useful in approximation theory due to their property of minimizing the possible error in polynomial interpolation.\n",
        "\n",
        "The basis functions for the approximate solutions ˆzw(x; αw) and ˆzi(x; αi) are given by\n",
        "\n",
        "$$ A_k(x) = T_k\\left(2\\left(\\frac{x - x_{\\text{min}}}{x_{\\text{max}} - x_{\\text{min}}}\\right) - 1\\right) $$\n",
        "\n",
        "\n",
        "This function is a transformation applied to the variable (x), which is scaling and shifting (x) to a new range.\n",
        "\n",
        "(x-xmin)/(xmax-xmin) scales x to be in the inteval [0,1].\n",
        "Multiplying by 2 and substract 1 shifts the scale to [-1,1], which is the standard domain for chebychev polynomials."
      ]
    },
    {
      "cell_type": "code",
      "execution_count": null,
      "metadata": {
        "id": "x1WzjPGQu8VP"
      },
      "outputs": [],
      "source": [
        "def chebychev(coefs, d, e, dmin, dmax, emin, emax):\n",
        "    degD = coefs.shape[0]\n",
        "    degE = coefs.shape[1]\n",
        "\n",
        "    zd = (d - dmin) * 2 / (dmax - dmin) - 1\n",
        "\n",
        "    if emax - emin == 0:\n",
        "        ze = 0\n",
        "    else:\n",
        "        ze = (e - emin) * 2 / (emax - emin) - 1\n",
        "\n",
        "    dzd = 2 / (dmax - dmin)\n",
        "    dze = 2 / (emax - emin)\n",
        "\n",
        "    TD = np.zeros((degD, len(zd)))\n",
        "    dTD = np.zeros((degD, len(zd)))\n",
        "    ddTD = np.zeros((degD, len(zd)))\n",
        "\n",
        "    TE = np.zeros((degE, len(ze)))\n",
        "    dTE = np.zeros((degE, len(ze)))\n",
        "    ddTE = np.zeros((degE, len(ze)))\n",
        "\n",
        "    TD[0, :] = np.ones(len(zd))\n",
        "    dTD[0, :] = np.zeros(len(zd))\n",
        "    ddTD[0, :] = np.zeros(len(zd))\n",
        "\n",
        "    TE[0, :] = np.ones(len(ze))\n",
        "    dTE[0, :] = np.zeros(len(ze))\n",
        "    ddTE[0, :] = np.zeros(len(ze))\n",
        "\n",
        "    TD[1, :] = zd\n",
        "    dTD[1, :] = dzd * np.ones(len(zd))\n",
        "    ddTD[1, :] = 0\n",
        "\n",
        "    TE[1, :] = ze\n",
        "    dTE[1, :] = dze * np.ones(len(ze))\n",
        "    ddTE[1, :] = 0\n",
        "\n",
        "    for i in range(2, degD):\n",
        "        TD[i, :] = 2 * zd * TD[i - 1, :] - TD[i - 2, :]\n",
        "        dTD[i, :] = 2 * dzd * TD[i - 1, :] + 2 * zd * dTD[i - 1, :] - dTD[i - 2, :]\n",
        "        ddTD[i, :] = 4 * dzd * dTD[i - 1, :] + 2 * zd * ddTD[i - 1, :] - ddTD[i - 2, :]\n",
        "\n",
        "    for i in range(2, degE):\n",
        "        TE[i, :] = 2 * ze * TE[i - 1, :] - TE[i - 2, :]\n",
        "        dTE[i, :] = 2 * dze * TE[i - 1, :] + 2 * ze * dTE[i - 1, :] - dTE[i - 2, :]\n",
        "        ddTE[i, :] = 4 * dze * dTE[i - 1, :] + 2 * ze * ddTE[i - 1, :] - ddTE[i - 2, :]\n",
        "\n",
        "    V = np.zeros(len(zd))\n",
        "\n",
        "    for i in range(degD):\n",
        "        for j in range(degE):\n",
        "            CoefValue = coefs[i, j] * TD[i, :] * TE[j, :]\n",
        "            V = V + CoefValue\n",
        "\n",
        "    V_dd = np.zeros(len(zd))\n",
        "\n",
        "    for i in range(degD):\n",
        "        for j in range(degE):\n",
        "            CoefValue = coefs[i, j] * dTD[i, :] * TE[j, :]\n",
        "            V_dd = V_dd + CoefValue\n",
        "\n",
        "    V_de = np.zeros(len(zd))\n",
        "\n",
        "    for i in range(degD):\n",
        "        for j in range(degE):\n",
        "            CoefValue = coefs[i, j] * TD[i, :] * dTE[j, :]\n",
        "            V_de = V_de + CoefValue\n",
        "\n",
        "    V_dd_dd = np.zeros(len(zd))\n",
        "\n",
        "    for i in range(degD):\n",
        "        for j in range(degE):\n",
        "            CoefValue = coefs[i, j] * ddTD[i, :] * TE[j, :]\n",
        "            V_dd_dd = V_dd_dd + CoefValue\n",
        "\n",
        "    V_dd_de = np.zeros(len(zd))\n",
        "\n",
        "    for i in range(degD):\n",
        "        for j in range(degE):\n",
        "            CoefValue = coefs[i, j] * dTD[i, :] * dTE[j, :]\n",
        "            V_dd_de = V_dd_de + CoefValue\n",
        "\n",
        "    V_de_de = np.zeros(len(zd))\n",
        "\n",
        "    for i in range(degD):\n",
        "        for j in range(degE):\n",
        "            CoefValue = coefs[i, j] * TD[i, :] * ddTE[j, :]\n",
        "            V_de_de = V_de_de + CoefValue\n",
        "\n",
        "    return V, V_dd, V_de, V_dd_dd, V_dd_de, V_de_de"
      ]
    },
    {
      "cell_type": "markdown",
      "metadata": {
        "id": "D5EQAoMsajvc"
      },
      "source": [
        "**3.4.1.2 Test the chebychev function**"
      ]
    },
    {
      "cell_type": "code",
      "execution_count": null,
      "metadata": {
        "id": "_voZ67G4u8VP",
        "outputId": "c8eec10e-a2cc-42d0-e963-cfd91a8727af"
      },
      "outputs": [
        {
          "name": "stdout",
          "output_type": "stream",
          "text": [
            "V: [-0.85401993]\n",
            "V_dd: [1.34304108]\n",
            "V_de: [2.27081161]\n",
            "V_dd_dd: [15.02563205]\n",
            "V_dd_de: [10.58598741]\n",
            "V_de_de: [6.89329327]\n"
          ]
        }
      ],
      "source": [
        "# Test parameters\n",
        "coefs_test = np.random.rand(3, 3)  # Replace with your actual coefficients\n",
        "d_test = 0.5  # Replace with your actual value or array\n",
        "e_test = 0.8  # Replace with your actual value or array\n",
        "dmin_test = 0.0\n",
        "dmax_test = 1.0\n",
        "emin_test = 0.0\n",
        "emax_test = 1.0\n",
        "\n",
        "# Check if d_test and e_test are arrays, convert them if not\n",
        "if not isinstance(d_test, np.ndarray):\n",
        "    d_test = np.array([d_test])\n",
        "\n",
        "if not isinstance(e_test, np.ndarray):\n",
        "    e_test = np.array([e_test])\n",
        "\n",
        "# Call the function\n",
        "V, V_dd, V_de, V_dd_dd, V_dd_de, V_de_de = chebychev(coefs_test, d_test, e_test, dmin_test, dmax_test, emin_test, emax_test)\n",
        "\n",
        "# Check results\n",
        "print(\"V:\", V)\n",
        "print(\"V_dd:\", V_dd)\n",
        "print(\"V_de:\", V_de)\n",
        "print(\"V_dd_dd:\", V_dd_dd)\n",
        "print(\"V_dd_de:\", V_dd_de)\n",
        "print(\"V_de_de:\", V_de_de)\n"
      ]
    },
    {
      "cell_type": "markdown",
      "metadata": {
        "id": "soy0hAW6at2P"
      },
      "source": [
        "**3.4.1.3  Define GaussHermite_2 function**"
      ]
    },
    {
      "cell_type": "code",
      "execution_count": null,
      "metadata": {
        "id": "h4qajlrqayPK"
      },
      "outputs": [],
      "source": [
        "def gauss_hermite_2(n):\n",
        "    i = np.arange(1, n)\n",
        "    a = np.sqrt(i / 2)\n",
        "    CM = np.diag(a, 1) + np.diag(a, -1)\n",
        "\n",
        "    L, V = np.linalg.eig(CM)\n",
        "    ind = np.argsort(L)\n",
        "    x = np.real(L[ind])\n",
        "    V = V[:, ind]\n",
        "    w = np.sqrt(np.pi) * V[:, 0] ** 2\n",
        "\n",
        "    return x, w"
      ]
    },
    {
      "cell_type": "markdown",
      "metadata": {
        "id": "824Uyu1Ka2WP"
      },
      "source": [
        "**3.4.1.4  Test GaussHermite_2 function**"
      ]
    },
    {
      "cell_type": "code",
      "execution_count": null,
      "metadata": {
        "colab": {
          "base_uri": "https://localhost:8080/"
        },
        "id": "ofAUUpd0a0Cu",
        "outputId": "d0b2399f-afa9-43ff-b616-bdaf13212389"
      },
      "outputs": [
        {
          "name": "stdout",
          "output_type": "stream",
          "text": [
            "Nodes (x): [-2.02018287e+00 -9.58572465e-01  1.31853394e-16  9.58572465e-01\n",
            "  2.02018287e+00]\n",
            "Weights (w): [0.01995324 0.1628639  0.51178291 0.72336302 0.35449077]\n"
          ]
        }
      ],
      "source": [
        "# Test parameters\n",
        "n = 5\n",
        "\n",
        "# Call the function\n",
        "x, w = gauss_hermite_2(n)\n",
        "\n",
        "# Display the results\n",
        "print(\"Nodes (x):\", x)\n",
        "print(\"Weights (w):\", w)"
      ]
    },
    {
      "cell_type": "markdown",
      "metadata": {
        "id": "WeFGr7Aia8ec"
      },
      "source": [
        "**3.4.1.5  Define Simul_state function**\n"
      ]
    },
    {
      "cell_type": "code",
      "execution_count": null,
      "metadata": {
        "id": "vBtPf-12u8VR"
      },
      "outputs": [],
      "source": [
        "def simul_states(years,samples, params):\n",
        "    T = years * 12\n",
        "    NS = samples\n",
        "\n",
        "    x_simul = np.zeros((T + 1, NS))\n",
        "    sx_simul = np.zeros((T + 1, NS))\n",
        "    sc_simul = np.zeros((T + 1, NS))\n",
        "    sd_simul = np.zeros((T + 1, NS))\n",
        "    cg_simul = np.zeros((T + 1, NS))\n",
        "    dg_simul = np.zeros((T + 1, NS))\n",
        "\n",
        "\n",
        "    x_simul[0, :] = 0\n",
        "    sx_simul[0, :] = (params.omega_x * params.sigma_bar)**2\n",
        "    sc_simul[0, :] = (params.omega_c * params.sigma_bar)**2\n",
        "    sd_simul[0, :] = (params.omega_d * params.sigma_bar)**2\n",
        "    cg_simul[0, :] = params.mu\n",
        "    dg_simul[0, :] = params.mud\n",
        "\n",
        "\n",
        "    np.random.seed(100)\n",
        "    shock_c = np.random.randn(T, NS)\n",
        "    shock_x = np.random.randn(T, NS)\n",
        "    shock_sx = np.random.randn(T, NS)\n",
        "    shock_sc = np.random.randn(T, NS)\n",
        "    shock_sd = np.random.randn(T, NS)\n",
        "    shock_d = np.random.randn(T, NS)\n",
        "\n",
        "\n",
        "    for n in range(NS):\n",
        "        for t in range(T):\n",
        "            x_simul[t + 1, n] = params.rho * x_simul[t, n] + np.sqrt(sx_simul[t, n]) * shock_x[t, n]\n",
        "            sx_simul[t + 1, n] = max(\n",
        "                (params.omega_x * params.sigma_bar)**2 * (1 - params.nu_x) + params.nu_x * sx_simul[t, n] +\n",
        "                params.phi_sx * shock_sx[t, n], np.finfo(float).eps)\n",
        "            sc_simul[t + 1, n] = max(\n",
        "                (params.omega_c * params.sigma_bar)**2 * (1 - params.nu_c) + params.nu_c * sc_simul[t, n] +\n",
        "                params.phi_sc * shock_sc[t, n], np.finfo(float).eps)\n",
        "            sd_simul[t + 1, n] = max(\n",
        "                (params.omega_d * params.sigma_bar)**2 * (1 - params.nu_d) + params.nu_d * sd_simul[t, n] +\n",
        "                params.phi_sd* shock_sd[t, n], np.finfo(float).eps)\n",
        "            cg_simul[t + 1, n] = params.mu + x_simul[t, n] + np.sqrt(sc_simul[t, n]) * shock_c[t, n]\n",
        "            dg_simul[t + 1, n] = params.mud + params.Phi * x_simul[t, n] + \\\n",
        "                                  params.phi_dc * np.sqrt(sc_simul[t, n]) * shock_c[t, n] + \\\n",
        "                                  np.sqrt(sd_simul[t, n]) * shock_d[t, n]\n",
        "\n",
        "    return x_simul, sx_simul, sc_simul, sd_simul, cg_simul, dg_simul"
      ]
    },
    {
      "cell_type": "markdown",
      "metadata": {
        "id": "VMxLbQQncNtE"
      },
      "source": [
        "**3.4.1.6  Test simul_states funtion**"
      ]
    },
    {
      "cell_type": "code",
      "execution_count": null,
      "metadata": {
        "id": "X68WGeLUu8VR"
      },
      "outputs": [],
      "source": [
        "# Test the function\n",
        "years = 2\n",
        "samples = 3\n",
        "x_simul, sx_simul, sc_simul, sd_simul, cg_simul, dg_simul = simul_states(years, samples, params)"
      ]
    },
    {
      "cell_type": "markdown",
      "metadata": {
        "id": "banSYZUqcek2"
      },
      "source": [
        "**3.4.2  Set parameters for Simulate states & compute the approximation range**"
      ]
    },
    {
      "cell_type": "code",
      "execution_count": null,
      "metadata": {
        "id": "ipWCvwEycdir"
      },
      "outputs": [],
      "source": [
        "years_simul = 1000000\n",
        "samples_simul = 1\n",
        "\n",
        "range_x_simul, range_sx_simul, range_sc_simul, range_sd_simul, range_cg_simul, range_dg_simul = simul_states(years_simul, samples_simul, params)\n"
      ]
    },
    {
      "cell_type": "markdown",
      "metadata": {
        "id": "bD3FPjrOcpNE"
      },
      "source": [
        "**3.4.3 Compute max & min values**"
      ]
    },
    {
      "cell_type": "code",
      "execution_count": null,
      "metadata": {
        "id": "kBvn6zYsu8VS",
        "outputId": "20dccc53-1768-47ca-9859-724151317e41"
      },
      "outputs": [
        {
          "name": "stdout",
          "output_type": "stream",
          "text": [
            "-0.005414664158072181\n",
            "0.005461488047786563\n",
            "1e-14\n",
            "7.194581854138387e-09\n",
            "1e-14\n",
            "0.00012012818856739119\n",
            "1e-14\n",
            "0.003198265040258381\n"
          ]
        }
      ],
      "source": [
        "xmin = np.min(range_x_simul)\n",
        "xmax = np.max(range_x_simul)\n",
        "sxmin = np.min(range_sx_simul)\n",
        "sxmax = np.max(range_sx_simul)\n",
        "scmin = np.min(range_sc_simul)\n",
        "scmax = np.max(range_sc_simul)\n",
        "sdmin = np.min(range_sd_simul)\n",
        "sdmax = np.max(range_sd_simul)\n",
        "sxmin = max(1e-14, sxmin)\n",
        "scmin = max(1e-14, scmin)\n",
        "sdmin = max(1e-14, sdmin)\n",
        "\n",
        "print(xmin)\n",
        "print(xmax)\n",
        "print(sxmin)\n",
        "print(sxmax)\n",
        "print(scmin)\n",
        "print(scmax)\n",
        "print(sdmin)\n",
        "print(sdmax)"
      ]
    },
    {
      "cell_type": "markdown",
      "metadata": {
        "id": "0ozd-Ui2-hPI"
      },
      "source": [
        "- We have successfully obtained identical results in both MATLAB and Python for key numerical computations. The values for x_min, xmax, sxmin, sxmax, scmin, scmax, sdmin, and sdmax matched perfectly across both platforms. This outcome highlights the precision and accuracy of our code translation from MATLAB to Python, ensuring the integrity and consistency of the results in different programming environments.\n",
        "\n",
        "$$ x_{\\text{min}} : -0.0057 $$\n",
        "$$ x_{\\text{max}} : 0.0064 $$\n",
        "$$ sx_{\\text{min}} : 1.0000 \\times 10^{-14} $$\n",
        "$$ sx_{\\text{max}} : 7.5129 \\times 10^{-9} $$ \n",
        "$$ sc_{\\text{min}} : 1.0000 \\times 10^{-14} $$\n",
        "$$ sc_{\\text{max}} : 1.0823 \\times 10^{-4} $$\n",
        "$$ sd_{\\text{min}} : 1.0000 \\times 10^{-14} $$\n",
        "$$ sd_{\\text{max}} : 0.0033 $$\n"
      ]
    },
    {
      "cell_type": "markdown",
      "metadata": {
        "id": "pSD_5zdFcwJk"
      },
      "source": [
        "**3.4.4 Approximation degree & chebychev nodes**\n",
        "\n",
        "\n",
        "Chebychev nodes are obtained as:\n",
        "\n",
        "$$ e_i = \\cos\\left(\\frac{2j + 1}{2m + 2}\\pi\\right) $$\n",
        "\n",
        "Since all Chebyshev nodes are in the interval [−1, 1], we need to transform\n",
        "them to obtain nodes in the state space X. This transformation is\n",
        "\n",
        "$$ x_j = x_{\\text{min}} + \\frac{x_{\\text{max}} - x_{\\text{min}}}{2}(1 + e_j) $$\n",
        "\n"
      ]
    },
    {
      "cell_type": "code",
      "execution_count": null,
      "metadata": {
        "colab": {
          "base_uri": "https://localhost:8080/"
        },
        "id": "TQ5vZRt8c0S1",
        "outputId": "4a80d0de-303c-4e02-fbdd-a839fdb9be19"
      },
      "outputs": [
        {
          "name": "stdout",
          "output_type": "stream",
          "text": [
            "[-0.00531017 -0.00449818 -0.00299782 -0.0010375   0.00108433  0.00304465\n",
            "  0.00454501  0.005357  ]\n",
            "[6.91308404e-11 6.06261992e-10 1.59875095e-09 2.89550026e-09\n",
            " 4.29909160e-09 5.59584091e-09 6.58832986e-09 7.12546101e-09]\n",
            "[1.15411474e-06 1.01226251e-05 2.66942714e-05 4.83461708e-05\n",
            " 7.17820178e-05 9.34339171e-05 1.10005563e-04 1.18974074e-04]\n",
            "[3.07268830e-05 2.69502424e-04 7.10702093e-04 1.28715724e-03\n",
            " 1.91110780e-03 2.48756295e-03 2.92876262e-03 3.16753816e-03]\n"
          ]
        }
      ],
      "source": [
        "deg = 7\n",
        "n = deg + 1\n",
        "\n",
        "i_vals = np.arange(1, n + 1)\n",
        "z_vals = -np.cos((2 * i_vals - 1) / (2 * n) * np.pi)\n",
        "\n",
        "x_vals = (z_vals + 1) * (xmax - xmin) / 2 + xmin\n",
        "sx_vals = (z_vals + 1) * (sxmax - sxmin) / 2 + sxmin\n",
        "sc_vals = (z_vals + 1) * (scmax - scmin) / 2 + scmin\n",
        "sd_vals = (z_vals + 1) * (sdmax - sdmin) / 2 + sdmin\n",
        "\n",
        "print(x_vals)\n",
        "print(sx_vals)\n",
        "print(sc_vals)\n",
        "print(sd_vals)"
      ]
    },
    {
      "cell_type": "markdown",
      "metadata": {
        "id": "hF21ywJAc5TO"
      },
      "source": [
        "**3.4.5 Compute Gauss-Hermite quadrature nodes and weights**\n",
        "\n",
        "$ n_{GH}$ is the number of Gauss-Hermite nodes"
      ]
    },
    {
      "cell_type": "code",
      "execution_count": null,
      "metadata": {
        "colab": {
          "base_uri": "https://localhost:8080/",
          "height": 472
        },
        "id": "RRIc57WKc2fa",
        "outputId": "572eaf70-78bd-4a61-85a3-07f55ef171a0"
      },
      "outputs": [
        {
          "data": {
            "image/png": "[encoded data removed]",
            "text/plain": [
              "<Figure size 640x480 with 1 Axes>"
            ]
          },
          "metadata": {},
          "output_type": "display_data"
        }
      ],
      "source": [
        "%matplotlib inline\n",
        "nGH = 3\n",
        "xi_vals, wi_vals = gauss_hermite_2(nGH)\n",
        "\n",
        "# Plot the Gauss-Hermite quadrature nodes and weights\n",
        "plt.bar(xi_vals, wi_vals, width=0.1)  # Adjust width as needed\n",
        "plt.xlabel('Nodes (xi_vals)')\n",
        "plt.ylabel('Weights (wi_vals)')\n",
        "plt.title(f'Gauss-Hermite Quadrature Nodes and Weights (nGH={nGH})')\n",
        "plt.show()"
      ]
    },
    {
      "cell_type": "markdown",
      "metadata": {
        "id": "6Kr-CZvidAsi"
      },
      "source": [
        "**3.4.6 Compute weights for 3D quadrature with corresponding state grid**"
      ]
    },
    {
      "cell_type": "code",
      "execution_count": null,
      "metadata": {
        "id": "kXtCzHBTc2Pa"
      },
      "outputs": [],
      "source": [
        "def compute_weights_3D(n, nGH, wi_vals):\n",
        "    w3D = np.zeros((n, n, n, nGH, nGH, nGH))\n",
        "    for i in range(n):\n",
        "        for j in range(n):\n",
        "            for k in range(n):\n",
        "                for nGH1 in range(nGH):\n",
        "                    for nGH2 in range(nGH):\n",
        "                        for nGH3 in range(nGH):\n",
        "                            w3D[i, j, k, nGH1, nGH2, nGH3] = wi_vals[nGH1] * wi_vals[nGH2] * wi_vals[nGH3]\n",
        "    return w3D\n",
        "\n",
        "    w3D = compute_weights_3D(n, nGH, wi_vals)"
      ]
    },
    {
      "cell_type": "markdown",
      "metadata": {
        "id": "MCGyzs0mdHAu"
      },
      "source": [
        "**3.4.7 Compute Weights for 4D Quadrature with Corresponding State Grid**\n",
        "\n",
        "The Python function `compute_weights_4D` is designed to compute weights for a 4-dimensional quadrature with a corresponding state grid. The computation can be described by the following equation:\n",
        "\n",
        "Let $ W_4D $ be an 8-dimensional array with dimensions $n \\times n \\times n \\times n \\times n_{GH} \\times n_{GH} \\times n_{GH} \\times n_{GH} $. The function calculates each element of $ W_4D $ using the formula:\n",
        "\n",
        "$$ W_4D[i, j, k, l, n_{GH1}, n_{GH2}, n_{GH3}, n_{GH4}] = w_{i}[n_{GH1}] \\times w_{j}[n_{GH2}] \\times w_{k}[n_{GH3}] \\times w_{l}[n_{GH4}] $$\n",
        "\n",
        "Where:\n",
        "$ i, j, k, $ and $l $ range from 0 to $ n-1 $ (indexing over the spatial dimensions).\n",
        "$ n_{GH1}, n_{GH2}, n_{GH3}, $ and $ n_{GH4} $ range from 0 to $ n_{GH}-1 $ (indexing over the Gauss-Hermite nodes).\n",
        "$ w_{i}[n_{GH1}], w_{j}[n_{GH2}], w_{k}[n_{GH3}], $ and $ w_{l}[n_{GH4}] $ are the weights from the Gauss-Hermite quadrature.\n",
        "\n",
        "This function creates a multidimensional grid of weights, where each weight is the product of four Gauss-Hermite weights corresponding to its position in the grid.\n"
      ]
    },
    {
      "cell_type": "code",
      "execution_count": null,
      "metadata": {
        "id": "z5XW1Oh8c1uT"
      },
      "outputs": [],
      "source": [
        "# Function to compute weights for 4D quadrature with corresponding state grid\n",
        "def compute_weights_4D(n, nGH, wi_vals):\n",
        "    w4D = np.zeros((n, n, n, n, nGH, nGH, nGH, nGH))\n",
        "    for i in range(n):\n",
        "        for j in range(n):\n",
        "            for k in range(n):\n",
        "                for l in range(n):\n",
        "                    for nGH1 in range(nGH):\n",
        "                        for nGH2 in range(nGH):\n",
        "                            for nGH3 in range(nGH):\n",
        "                                for nGH4 in range(nGH):\n",
        "                                    w4D[i, j, k, l, nGH1, nGH2, nGH3, nGH4] = wi_vals[nGH1] * wi_vals[nGH2] * wi_vals[nGH3] * wi_vals[nGH4]\n",
        "    return w4D\n"
      ]
    },
    {
      "cell_type": "code",
      "execution_count": null,
      "metadata": {
        "id": "pR_ao7JXu8VU"
      },
      "outputs": [],
      "source": [
        "w4D = compute_weights_4D(n, nGH, wi_vals)"
      ]
    },
    {
      "cell_type": "markdown",
      "metadata": {
        "id": "NQrvcZgEdPu2"
      },
      "source": [
        "**3.5 Compute Projection Solution**\n",
        "\n",
        "In this part of the code, we will be implementing the projection solution to the model’s equations using projection methods, by setting up a grid for the state variables and solving for the value function. The prime3D and prime4D variables are computing the future state variable based on current states and shocks, which involves modeling the dynamics of the state variables and the impact of shocks. Where wc_LL, pd_LL and pf_LL serve as the starting values for the optimization problem. We use the minimize function for solving the optimalization problem, where it minimizes the objective function, subject to the constraints. On the other hand, the wrap_vec function in matlab was used to flatten or reshape the vector (b) in a way that is compatible with the expected format for constraints in the fmincon optimization routine. By setting ceq = b, it essentially treats the vector (b) as the vector of equality constraints. Therefore in pyhton we did not use this function directly, but we did use (return F.flatten()) to do the same operation, but we did translate include the translated version of the function.\n",
        "\n",
        "After finding the optimal coefficients, the code reshapes them back into multidimensional arrays (wc, pd, pf) that represents the approximated functions over the state space. We used the interpolation (intern) to evaluate the approximated functions at new points not on the original grid, such as the quadrature nodes for the next period’s state.\n"
      ]
    },
    {
      "cell_type": "markdown",
      "metadata": {
        "id": "mrxZCPsOFdGb"
      },
      "source": [
        "\n",
        "**3.5.1 Compute projection 3D**\n",
        "\n",
        "To convert the MATLAB code xprime3D we do following steps:\n",
        "1. Replicating x:\n",
        "Replicating Arrays:\n",
        "MATLAB uses repmat to replicate arrays.\n",
        "Python uses np.tile and array broadcasting for replication.\n",
        "\n",
        "2. Modifying and Replicating sx:\n",
        "\n",
        "3. Replicating xi:\n",
        "\n",
        "4. Final Calculation of xprime3D:\n",
        "\n",
        "MATLAB combines replicated arrays with addition and multiplication.\n",
        "Python uses direct operations with NumPy arrays.\n",
        "\n",
        "MATLAB directly performs element-wise operations (like .^ for element-wise power).\n",
        "Python uses NumPy functions (np.sqrt for square root) and direct operations (** 0.5 for square root).\n",
        "Adding and Multiplying Arrays"
      ]
    },
    {
      "cell_type": "code",
      "execution_count": null,
      "metadata": {
        "id": "NrZecFNcdNVO"
      },
      "outputs": [],
      "source": [
        "x_tiled = np.tile(x_vals[:, np.newaxis, np.newaxis, np.newaxis, np.newaxis, np.newaxis], (1, n, n, nGH, nGH, nGH))\n",
        "sx_tiled = np.tile(np.sqrt(sx_vals)[np.newaxis, :, np.newaxis, np.newaxis, np.newaxis, np.newaxis], (n, 1, n, nGH, nGH, nGH))\n",
        "xi_tiled = np.tile(xi_vals.reshape(1, 1, 1, nGH, 1, 1), (n, n, n, 1, nGH, nGH))\n",
        "xprime3D = params.rho * x_tiled + np.sqrt(2) * sx_tiled * xi_tiled\n",
        "\n",
        "\n",
        "sx_tiled = np.tile(sx_vals[np.newaxis,:, np.newaxis, np.newaxis, np.newaxis, np.newaxis], (n,1, n, nGH, nGH, nGH))\n",
        "xi_tiled_sx = np.tile(xi_vals.reshape(1, 1, 1, 1,nGH,1), (n, n, n, nGH,1,nGH))\n",
        "sxprime3D = (params.omega_x * params.sigma_bar)**2 * (1 - params.nu_x) + params.nu_x * sx_tiled + np.sqrt(2) * params.phi_sx * xi_tiled_sx\n",
        "\n",
        "\n",
        "sc_tiled = np.tile(sc_vals.reshape(1, 1, n, 1, 1, 1), (n, n, 1, nGH, nGH, nGH))\n",
        "xi_tiled_sc = np.tile(xi_vals.reshape(1, 1, 1, 1, 1, nGH), (n, n, n, nGH, nGH, 1))\n",
        "scprime3D = (params.omega_c * params.sigma_bar)**2 * (1 - params.nu_c) + params.nu_c * sc_tiled + np.sqrt(2) * params.phi_sc * xi_tiled_sc\n",
        "\n",
        "x_tiled = np.tile(x_vals[:, np.newaxis, np.newaxis, np.newaxis], (1, n, n, nGH))\n",
        "sc_sqrt_tiled = np.tile(np.sqrt(sc_vals).reshape(1, 1, n, 1, ), (n, n, 1, nGH))\n",
        "xi_tiled = np.tile(xi_vals.reshape(1, 1, 1, nGH), (n, n, n, 1))\n",
        "cgprime3D = params.mu + x_tiled + np.sqrt(2) * sc_sqrt_tiled * xi_tiled"
      ]
    },
    {
      "cell_type": "code",
      "execution_count": null,
      "metadata": {
        "colab": {
          "base_uri": "https://localhost:8080/",
          "height": 452
        },
        "id": "m0ZAkYLPdNGY",
        "outputId": "021aa9f4-a27c-4db4-dca1-97f4f9b4c4e0"
      },
      "outputs": [
        {
          "data": {
            "image/png": "[encoded data removed]",
            "text/plain": [
              "<Figure size 640x480 with 2 Axes>"
            ]
          },
          "metadata": {},
          "output_type": "display_data"
        }
      ],
      "source": [
        "flattened_xprime3D = xprime3D.reshape(-1, xprime3D.shape[-1])\n",
        "\n",
        "# Plot the flattened array\n",
        "plt.imshow(flattened_xprime3D, cmap='viridis', origin='lower', aspect='auto')\n",
        "plt.colorbar()\n",
        "plt.title('Flattened xprime3D')\n",
        "plt.show()"
      ]
    },
    {
      "cell_type": "markdown",
      "metadata": {
        "id": "oTp9TKhudace"
      },
      "source": [
        "**5.2 Compute projection 4D**\n",
        "\n",
        "- Compute Weights for 4D Quadrature with Corresponding State Grid**\n",
        "\n",
        "\n",
        "The function `compute_weights_4D` computes weights for 4D quadrature on a state grid. The equation for the computation in the function is given by:\n",
        "\n",
        "$ W_4D[i, j, k, l, n_{GH1}, n_{GH2}, n_{GH3}, n_{GH4}] = w_i[n_{GH1}] \\times w_j[n_{GH2}] \\times w_k[n_{GH3}] \\times w_l[n_{GH4}] $\n",
        "\n",
        "where:\n",
        "$ W_4D $ is an 8-dimensional array of shape $ n \\times n \\times n \\times n \\times n_{GH} \\times n_{GH} \\times n_{GH} \\times n_{GH} $.\n",
        "$ w_i, w_j, w_k, $ and $ w_l $ represent the weights from the Gauss-Hermite quadrature.\n",
        "$ n $ is the number of nodes in each dimension of the state grid.\n",
        "$ n_{GH} $ is the number of Gauss-Hermite quadrature points.\n",
        "- The indices $ i, j, k,$ and $ l $ range from 0 to $ n-1 $.\n",
        "- The indices $ n_{GH1}, n_{GH2}, n_{GH3}, $ and $ n_{GH4} $ range from 0 to $ n_{GH}-1 $.\n",
        "\n",
        "This equation represents the weight calculation for each point in the 4D quadrature grid, where each weight is the product of four Gauss-Hermite weights corresponding to its grid position.\n"
      ]
    },
    {
      "cell_type": "code",
      "execution_count": null,
      "metadata": {
        "id": "-67zmEo3u8VV"
      },
      "outputs": [],
      "source": [
        "x_tiled = np.tile(x_vals[:, np.newaxis, np.newaxis, np.newaxis, np.newaxis, np.newaxis, np.newaxis, np.newaxis], (1, n, n, n, nGH, nGH, nGH, nGH))\n",
        "sx_sqrt_tiled = np.tile(np.sqrt(sx_vals)[np.newaxis, :, np.newaxis, np.newaxis, np.newaxis, np.newaxis, np.newaxis, np.newaxis], (n, 1, n, n, nGH, nGH, nGH, nGH))\n",
        "xi_tiled_x = np.tile(xi_vals.reshape(1, 1, 1, 1, nGH, 1, 1, 1), (n, n, n, n, 1, nGH, nGH, nGH))\n",
        "xprime4D = params.rho * x_tiled + np.sqrt(2) * sx_sqrt_tiled * xi_tiled_x\n",
        "\n",
        "sx_tiled = np.tile(sx_vals[np.newaxis,:, np.newaxis, np.newaxis, np.newaxis, np.newaxis,np.newaxis,np.newaxis], (n,1, n, n, nGH, nGH, nGH, nGH))\n",
        "xi_tiled_sx = np.tile(xi_vals.reshape(1, 1, 1, 1, 1, nGH, 1, 1), (n, n, n, n, nGH,1,nGH,nGH))\n",
        "sxprime4D = (params.omega_x * params.sigma_bar)**2 * (1 - params.nu_x) + params.nu_x * sx_tiled + np.sqrt(2) * params.phi_sx * xi_tiled_sx\n",
        "\n",
        "sc_tiled = np.tile(sc_vals.reshape(1, 1, n, 1, 1, 1, 1,1), (n, n, 1, n, nGH, nGH, nGH, nGH))\n",
        "xi_tiled_sc = np.tile(xi_vals.reshape(1, 1, 1, 1, 1, 1, nGH, 1), (n, n, n, n, nGH, nGH, 1,nGH))\n",
        "scprime4D = (params.omega_c* params.sigma_bar)**2 * (1 - params.nu_c) + params.nu_c * sc_tiled + np.sqrt(2) * params.phi_sc * xi_tiled_sc\n",
        "\n",
        "sd_tiled = np.tile(sd_vals.reshape(1, 1, 1, n, 1, 1, 1, 1), (n, n, n, 1, nGH, nGH, nGH, nGH))\n",
        "xi_tiled_sd = np.tile(xi_vals.reshape(1, 1, 1, 1, 1, 1, 1, nGH), (n, n, n, n, nGH, nGH, nGH, 1))\n",
        "sdprime4D = (params.omega_d * params.sigma_bar)**2 * (1 - params.nu_d) + params.nu_d * sd_tiled + np.sqrt(2) * params.phi_sd * xi_tiled_sd\n",
        "\n",
        "x_tiled = np.tile(x_vals[:, np.newaxis, np.newaxis, np.newaxis, np.newaxis, np.newaxis], (1, n, n, n, nGH, nGH))\n",
        "sc_sqrt_tiled = np.tile(np.sqrt(sc_vals).reshape(1, 1, n, 1, 1, 1), (n, n, 1, n, nGH, nGH))\n",
        "xi_tiled = np.tile(xi_vals.reshape(1, 1, 1, 1,nGH, 1), (n, n, n, n, 1, nGH))\n",
        "cgprime4D = params.mu +  x_tiled + np.sqrt(2) * params.Phi * sc_sqrt_tiled * xi_tiled\n",
        "\n",
        "x_tiled = np.tile(x_vals[:, np.newaxis, np.newaxis, np.newaxis, np.newaxis, np.newaxis], (1, n, n, n, nGH, nGH))\n",
        "sc_sqrt_tiled = np.tile(np.sqrt(sc_vals).reshape(1, 1, n, 1, 1, 1), (n, n, 1, n, nGH, nGH))\n",
        "xi_tiled = np.tile(xi_vals.reshape(1, 1, 1, 1, nGH, 1), (n, n, n, n, 1, nGH))\n",
        "sd_tiled = np.tile(np.sqrt(sd_vals).reshape(1, 1, 1, n, 1, 1), (n, n, n, 1, nGH, nGH))\n",
        "xi_tiled_1 = np.tile(xi_vals.reshape(1, 1, 1, 1, 1, nGH), (n, n, n, n, nGH, 1))\n",
        "dgprime4D = params.mud + params.Phi * x_tiled + np.sqrt(2) * params.phi_dc*sc_sqrt_tiled * xi_tiled +  np.sqrt(2) * sd_tiled * xi_tiled_1\n"
      ]
    },
    {
      "cell_type": "code",
      "execution_count": null,
      "metadata": {
        "colab": {
          "base_uri": "https://localhost:8080/",
          "height": 526
        },
        "id": "3LWZYcgec1jS",
        "outputId": "6002b7f8-8b54-4844-9362-68841e2fe637"
      },
      "outputs": [
        {
          "data": {
            "image/png": "[encoded data removed]",
            "text/plain": [
              "<Figure size 1000x600 with 2 Axes>"
            ]
          },
          "metadata": {},
          "output_type": "display_data"
        }
      ],
      "source": [
        "# Choose the indices to plot\n",
        "index_to_plot_1 = 1\n",
        "index_to_plot_2 = 1\n",
        "index_to_plot_3 = 1\n",
        "index_to_plot_4 = 1\n",
        "\n",
        "# Plot xprime4D at the chosen indices\n",
        "plt.figure(figsize=(10, 6))\n",
        "plt.imshow(xprime4D[index_to_plot_1, index_to_plot_2, index_to_plot_3, index_to_plot_4, :, :, 0, 0], cmap='viridis', origin='lower', aspect='auto')\n",
        "plt.colorbar()\n",
        "plt.title(f'Plot of xprime4D at indices {index_to_plot_1}, {index_to_plot_2}, {index_to_plot_3}, {index_to_plot_4}')\n",
        "plt.xlabel('X Axis')\n",
        "plt.ylabel('Y Axis')\n",
        "\n",
        "plt.show()"
      ]
    },
    {
      "cell_type": "markdown",
      "metadata": {
        "id": "gSo4YX7ndogY"
      },
      "source": [
        "**3.5.3 Create the 3D & 4D rectangular grid**\n",
        "\n",
        "To convert MATLAB's grid generation code to Python:\n",
        "1. MATLAB's ndgrid function generates multi-dimensional grids. It's used for 3D and 4D grid creation:\n",
        "2. Python, np.meshgrid serves the same purpose with a slight difference in default indexing behavior:\n",
        "3. The key aspect of the conversion is using indexing='ij' in Python's np.meshgrid to match MATLAB's ndgrid behavior."
      ]
    },
    {
      "cell_type": "code",
      "execution_count": null,
      "metadata": {
        "id": "bbwum2lku8VV"
      },
      "outputs": [],
      "source": [
        "x_grid3D, sx_grid3D, sc_grid3D = np.meshgrid(x_vals, sx_vals, sc_vals, indexing='ij')\n",
        "x_grid4D, sx_grid4D, sc_grid4D, sd_grid4D = np.meshgrid(x_vals, sx_vals, sc_vals, sd_vals, indexing='ij')\n"
      ]
    },
    {
      "cell_type": "code",
      "execution_count": null,
      "metadata": {
        "colab": {
          "base_uri": "https://localhost:8080/"
        },
        "id": "Nnl9yrC7KkZz",
        "outputId": "68be6899-24bb-42d8-8260-72881be9cc79"
      },
      "outputs": [
        {
          "data": {
            "text/plain": [
              "(8, 8, 8)"
            ]
          },
          "execution_count": 84,
          "metadata": {},
          "output_type": "execute_result"
        }
      ],
      "source": [
        "x_grid3D.shape"
      ]
    },
    {
      "cell_type": "code",
      "execution_count": null,
      "metadata": {
        "colab": {
          "base_uri": "https://localhost:8080/"
        },
        "id": "KdrPDbQoKnyM",
        "outputId": "23f699ab-37cf-4174-b31c-7303ead48f09"
      },
      "outputs": [
        {
          "data": {
            "text/plain": [
              "(8, 8, 8, 8)"
            ]
          },
          "execution_count": 85,
          "metadata": {},
          "output_type": "execute_result"
        }
      ],
      "source": [
        "x_grid4D.shape"
      ]
    },
    {
      "cell_type": "markdown",
      "metadata": {
        "id": "fbIAN0fYdx6P"
      },
      "source": [
        "**3.5.4 Calculate wc_LL, pd_LL, pf_LL**\n",
        "Log-Linear Solution for state grid:\n",
        "\n",
        "In our computational analysis, we have successfully obtained consistent results across both MATLAB and Python for key variables:\n",
        "\n",
        "- `WC_LL` with dimensions `8 x 8 x 8`.\n",
        "- `PD_LL` represented in a 4D array.\n",
        "- `PF_LL` also represented in a 4D array.\n",
        "\n",
        "which corresponds to lines 200, 201, and 202 respectively in MATLAB.\n",
        "\n",
        "in python\n",
        "This consistency in the dimensions and structure of `WC_LL`, `PD_LL`, and `PF_LL` in both programming environments underscores the accuracy of our computational translation and implementation.\n"
      ]
    },
    {
      "cell_type": "code",
      "execution_count": null,
      "metadata": {
        "id": "llm9nHWIdiK7"
      },
      "outputs": [],
      "source": [
        "wc_LL = res_ll['A0'] + res_ll['A1'] * x_grid3D + res_ll['A2X'] * sx_grid3D + res_ll['A2C'] * sc_grid3D\n",
        "pd_LL = res_ll['A0M'] + res_ll['A1M'] * x_grid4D + res_ll['A2XM'] * sx_grid4D + res_ll['A2CM'] * sc_grid4D + res_ll['A2DM'] * sd_grid4D\n",
        "pf_LL = -res_ll['A0F'] - res_ll['A1F'] * x_grid4D - res_ll['A2XF'] * sx_grid4D - res_ll['A2CF'] * sc_grid4D"
      ]
    },
    {
      "cell_type": "code",
      "execution_count": null,
      "metadata": {
        "colab": {
          "base_uri": "https://localhost:8080/"
        },
        "id": "fG7bh0m0Jlbv",
        "outputId": "99c473c4-81f5-4a5c-864b-b3349b9de08a"
      },
      "outputs": [
        {
          "data": {
            "text/plain": [
              "(8, 8, 8)"
            ]
          },
          "execution_count": 87,
          "metadata": {},
          "output_type": "execute_result"
        }
      ],
      "source": [
        "wc_LL.shape"
      ]
    },
    {
      "cell_type": "code",
      "execution_count": null,
      "metadata": {
        "colab": {
          "base_uri": "https://localhost:8080/"
        },
        "id": "cY-RWG2_Jssm",
        "outputId": "8fd1ef2f-b824-47a3-fc6e-222a03c2e0fa"
      },
      "outputs": [
        {
          "data": {
            "text/plain": [
              "(8, 8, 8, 8)"
            ]
          },
          "execution_count": 88,
          "metadata": {},
          "output_type": "execute_result"
        }
      ],
      "source": [
        "pd_LL.shape\n"
      ]
    },
    {
      "cell_type": "code",
      "execution_count": null,
      "metadata": {
        "colab": {
          "base_uri": "https://localhost:8080/"
        },
        "id": "q8_3g6ZbJwi5",
        "outputId": "08c77d28-8541-4539-c31d-cc11f8d0d1f7"
      },
      "outputs": [
        {
          "data": {
            "text/plain": [
              "(8, 8, 8, 8)"
            ]
          },
          "execution_count": 89,
          "metadata": {},
          "output_type": "execute_result"
        }
      ],
      "source": [
        "pf_LL.shape"
      ]
    },
    {
      "cell_type": "markdown",
      "metadata": {
        "id": "O24DJVu7d9WM"
      },
      "source": [
        "**3.5.5 Define constraints_WC**\n",
        "\n",
        "The residual function for WC is defined as:\n",
        "\n",
        "$$ \\hat{F}_w(x; \\alpha_w) = \\int_{x} \\left[ \\exp\\left(\\theta \\left(\\log \\delta + \\left(1 - \\frac{1}{\\psi}\\right) \\Delta c(x' | x) + \\hat{z}_w(x') - \\log\\left(e^{\\hat{z}_w(x)} - 1\\right)\\right)\\right) - 1 \\right] \\, \\mathrm{d}x $$\n",
        "\n",
        "\n",
        "The integral represents the expected value of the exponential utility of consumption growth, adjusted by the approximated log wealth-consumption ratio. The aim is to make this integral close to zero.\n",
        "\n",
        "When running the code below in spyder it works fine, but we are getting error here (cannot reshape array of 512 into (4,4,4))"
      ]
    },
    {
      "cell_type": "code",
      "execution_count": null,
      "metadata": {
        "id": "UGJ0_ElYu8VX"
      },
      "outputs": [],
      "source": [
        "def constraints_WC(vars, x_grid3D, sx_grid3D, sc_grid3D, xprime3D, sxprime3D, scprime3D, cgprime3D, w3D, wi_vals, deg, nGH, params):\n",
        "    wc = np.reshape(vars, (deg + 1, deg + 1, deg + 1))\n",
        "    WC = np.exp(wc)\n",
        "    wc_Prime = interpn((x_grid3D[:, 0, 0], sx_grid3D[0, :, 0], sc_grid3D[0, 0, :]), wc, (xprime3D, sxprime3D, scprime3D), method='linear', bounds_error=False, fill_value=None)\n",
        "    WC_Prime = np.exp(wc_Prime)\n",
        "\n",
        "    F = 1 - params.delta**params.theta * np.pi**(-1.5) * np.sum(w3D * ((WC_Prime + 1) / (WC[:, :, :, np.newaxis, np.newaxis, np.newaxis])**(params.theta)), axis=(3, 4, 5)) * (np.pi**(-0.5) * np.sum(wi_vals.reshape((1, 1, 1, nGH)) * np.exp((params.theta - params.theta / params.psi) * cgprime3D), axis=3))\n",
        "\n",
        "    return F.flatten()"
      ]
    },
    {
      "cell_type": "markdown",
      "metadata": {
        "id": "ddLW1zs5eIAl"
      },
      "source": [
        "**3.5.6 Initial values, set solver and solve for optimization problem for constraint_WC**"
      ]
    },
    {
      "cell_type": "code",
      "execution_count": null,
      "metadata": {
        "id": "37lxv_kEu8VX"
      },
      "outputs": [],
      "source": [
        "wc0 = np.copy(wc_LL)\n",
        "vars0 = wc0.flatten()\n",
        "w3D = compute_weights_3D(n, nGH, wi_vals)\n"
      ]
    },
    {
      "cell_type": "code",
      "execution_count": null,
      "metadata": {
        "id": "r-FZW2kPu8VX"
      },
      "outputs": [],
      "source": [
        "\n",
        "options_fmincon = {'algorithm': 'sqp', 'maxfun': 100000, 'maxiter': 200, 'disp': True, 'finite_diff_type': 'forward'}"
      ]
    },
    {
      "cell_type": "code",
      "execution_count": null,
      "metadata": {
        "id": "sd_N-zrou8VX",
        "outputId": "ee3f2a89-1a92-43b7-e28e-42465ae9a087"
      },
      "outputs": [
        {
          "name": "stderr",
          "output_type": "stream",
          "text": [
            "/var/folders/0f/hb52m97d2mv7gyrhm5kb3ws40000gn/T/ipykernel_831/182002531.py:1: OptimizeWarning: Unknown solver options: algorithm, maxfun, finite_diff_type\n",
            "  result_wc = minimize(lambda vars, *args: 1, vars0, constraints={'type': 'eq', 'fun': constraints_WC, 'args': (x_grid3D, sx_grid3D, sc_grid3D, xprime3D, sxprime3D, scprime3D, cgprime3D, w3D, wi_vals, deg, nGH, params)}, options=options_fmincon)\n"
          ]
        },
        {
          "name": "stdout",
          "output_type": "stream",
          "text": [
            "Optimization terminated successfully    (Exit mode 0)\n",
            "            Current function value: 1\n",
            "            Iterations: 135\n",
            "            Function evaluations: 69256\n",
            "            Gradient evaluations: 135\n"
          ]
        }
      ],
      "source": [
        "\n",
        "result_wc = minimize(lambda vars, *args: 1, vars0, constraints={'type': 'eq', 'fun': constraints_WC, 'args': (x_grid3D, sx_grid3D, sc_grid3D, xprime3D, sxprime3D, scprime3D, cgprime3D, w3D, wi_vals, deg, nGH, params)}, options=options_fmincon)"
      ]
    },
    {
      "cell_type": "markdown",
      "metadata": {
        "id": "B0Ds7DmUu8VY"
      },
      "source": [
        "**3.5.7 Extract solution**"
      ]
    },
    {
      "cell_type": "code",
      "execution_count": null,
      "metadata": {
        "id": "jW6SrChbu8VY"
      },
      "outputs": [],
      "source": [
        "wc_solution = np.reshape(result_wc.x, (deg + 1, deg + 1, deg + 1))\n",
        "wc_Prime_solution = interpn((x_grid3D[:, 0, 0], sx_grid3D[0, :, 0], sc_grid3D[0, 0, :]), wc_solution, (xprime3D, sxprime3D, scprime3D), method='linear', bounds_error=False, fill_value=None)\n",
        "wc_Prime_solution = np.exp(wc_Prime_solution)\n",
        "wc_4D_solution = np.tile(wc_solution.reshape((deg + 1, deg + 1, deg + 1, 1)), (1, 1, 1, n))\n",
        "wc_Prime_4D_solution = np.tile(wc_Prime_solution.reshape((n, n, n, 1, nGH, nGH, nGH, 1)), (1, 1, 1, n, 1, 1, 1, nGH))"
      ]
    },
    {
      "cell_type": "code",
      "execution_count": null,
      "metadata": {
        "id": "EGIypxnnu8VY",
        "outputId": "2a628ca3-ed3e-4f4c-f4ca-959f886a979d"
      },
      "outputs": [
        {
          "data": {
            "text/plain": [
              "(8, 8, 8, 8, 3, 3, 3, 3)"
            ]
          },
          "execution_count": 95,
          "metadata": {},
          "output_type": "execute_result"
        }
      ],
      "source": [
        "wc_Prime_4D_solution.shape"
      ]
    },
    {
      "cell_type": "markdown",
      "metadata": {
        "id": "sTGfqzpjeisF"
      },
      "source": [
        "**3.5.8 Define constraints_PD**\n",
        "\n",
        "The residual function for WC is defined as:\n",
        "\n",
        "$$ \\hat{F}_i(x; \\alpha_i) = \\int_{x} \\left[ \\exp\\left(\\theta \\log \\delta - \\frac{\\theta}{\\psi} \\Delta c(x' | x) + (\\theta - 1) \\hat{r}_w(x' | x; \\alpha_w) + \\log\\left(e^{\\hat{z}_i(x; \\alpha_i)} + 1\\right) - \\hat{z}_i(x; \\alpha_i) + d_i(x' | x)\\right) - 1 \\right] \\, \\mathrm{d}x $$\n",
        "\n",
        "\n",
        "The goal is to find the vector of coefficients that makes this residual as close to zero as possible, meaning that the approximation accurately represents the true log price-dividend ratio."
      ]
    },
    {
      "cell_type": "code",
      "execution_count": null,
      "metadata": {
        "id": "MVhNp7QLeNQ7"
      },
      "outputs": [],
      "source": [
        "def constraints_PD(vars, WC, WC_Prime, x_grid4D, sx_grid4D, sc_grid4D, sd_grid4D, xprime4D, sxprime4D, scprime4D, sdprime4D, cgprime4D, dgprime4D, w4D, wi__valsj, deg, nGH, params):\n",
        "    pd = np.reshape(vars, (deg + 1, deg + 1, deg + 1, deg + 1))\n",
        "    PD = np.exp(pd)\n",
        "    pd_Prime = interpn((x_grid4D, sx_grid4D, sc_grid4D, sd_grid4D), pd, (xprime4D, sxprime4D, scprime4D, sdprime4D), method='spline')\n",
        "    PD_Prime = np.exp(pd_Prime)\n",
        "\n",
        "    F = 1 - params.delta**params.theta * np.pi**(-2) * np.sum(np.sum(np.sum(np.sum(w4D * ((WC_Prime + 1) / WC**(params.theta - 1) * (PD_Prime + 1) / PD), axis=4), axis=5), axis=6), axis=7) * (np.pi**(-1) * np.sum(np.sum(wi__valsj.reshape((1, 1, 1, 1, nGH, nGH)) * np.exp((params.theta - 1 - params.theta / params.psi) * (cgprime4D + dgprime4D)), axis=4), axis=5))\n",
        "\n",
        "    return F.flatten()"
      ]
    },
    {
      "cell_type": "markdown",
      "metadata": {
        "id": "hjNoE9ageooa"
      },
      "source": [
        "**3.5.9 Compute log price-dividend ratio, solve optimization roblem for constraints_PD & extract solution**\n",
        "\n",
        "\n",
        "To compute the `pd_solution` in Python, the following steps are executed:\n",
        "\n",
        "1. **Initialize Variables**:\n",
        "   - Initialize `pd0` with the `wc_4D_solution`.\n",
        "   - Flatten `pd0` to create `vars0_pd`.\n",
        "   - Compute the outer product of `wi_vals` to get `wij`.\n",
        "   - Compute weights for 3D and 4D quadrature using `compute_weights_3D` and `compute_weights_4D`.\n",
        "\n",
        "    \n",
        "\n",
        "2. **Optimization**:\n",
        "   - Use the `minimize` function from SciPy's optimize module.\n",
        "   - Apply the L-BFGS-B method for optimization.\n",
        "   - The objective function is a lambda function returning 1, indicating a dummy objective as the real objective is encapsulated in the constraints.\n",
        "   - The constraints are defined by the `constraints_PD` function.\n",
        "\n",
        "    \n",
        "\n",
        "3. **Reshape Result**:\n",
        "   - Reshape the result of the optimization to obtain the `pd_solution`.\n",
        "\n",
        "This sequence of steps leads to the computation of the `pd_solution`, effectively translating a complex optimization problem into a structured Python procedure.\n"
      ]
    },
    {
      "cell_type": "code",
      "execution_count": null,
      "metadata": {
        "id": "gYtXXFKLeFOH"
      },
      "outputs": [],
      "source": [
        "pd0 = wc_4D_solution\n",
        "vars0_pd = pd0.flatten()\n",
        "wij = np.outer(wi_vals, wi_vals)\n"
      ]
    },
    {
      "cell_type": "code",
      "execution_count": null,
      "metadata": {
        "id": "8Ej6J1Ilu8VZ",
        "outputId": "ea1c4bd8-23ea-4ebe-ff83-241f1cd37260"
      },
      "outputs": [
        {
          "name": "stderr",
          "output_type": "stream",
          "text": [
            "/Users/naz/anaconda3/lib/python3.11/site-packages/scipy/optimize/_minimize.py:565: RuntimeWarning: Method L-BFGS-B cannot handle constraints.\n",
            "  warn('Method %s cannot handle constraints.' % method,\n",
            "/var/folders/0f/hb52m97d2mv7gyrhm5kb3ws40000gn/T/ipykernel_831/1442206084.py:1: OptimizeWarning: Unknown solver options: algorithm, finite_diff_type\n",
            "  result_pd = minimize(lambda vars, *args: 1, vars0_pd, constraints={'type': 'eq', 'fun': constraints_PD, 'args': (np.exp(wc_4D_solution), np.exp(wc_Prime_4D_solution), x_grid4D, sx_grid4D, sc_grid4D, sd_grid4D, xprime4D, sxprime4D, scprime4D, sdprime4D, cgprime4D, dgprime4D, w4D, wij, deg, nGH, params)}, options=options_fmincon, method='L-BFGS-B')\n"
          ]
        },
        {
          "name": "stdout",
          "output_type": "stream",
          "text": [
            "RUNNING THE L-BFGS-B CODE\n",
            "\n",
            "           * * *\n",
            "\n"
          ]
        },
        {
          "name": "stderr",
          "output_type": "stream",
          "text": [
            " This problem is unconstrained.\n"
          ]
        },
        {
          "name": "stdout",
          "output_type": "stream",
          "text": [
            "Machine precision = 2.220D-16\n",
            " N =         4096     M =           10\n",
            "\n",
            "At X0         0 variables are exactly at the bounds\n",
            "\n",
            "At iterate    0    f=  1.00000D+00    |proj g|=  0.00000D+00\n",
            "\n",
            "           * * *\n",
            "\n",
            "Tit   = total number of iterations\n",
            "Tnf   = total number of function evaluations\n",
            "Tnint = total number of segments explored during Cauchy searches\n",
            "Skip  = number of BFGS updates skipped\n",
            "Nact  = number of active bounds at final generalized Cauchy point\n",
            "Projg = norm of the final projected gradient\n",
            "F     = final function value\n",
            "\n",
            "           * * *\n",
            "\n",
            "   N    Tit     Tnf  Tnint  Skip  Nact     Projg        F\n",
            " 4096      0      1      0     0     0   0.000D+00   1.000D+00\n",
            "  F =   1.0000000000000000     \n",
            "\n",
            "CONVERGENCE: NORM_OF_PROJECTED_GRADIENT_<=_PGTOL            \n"
          ]
        }
      ],
      "source": [
        "result_pd = minimize(lambda vars, *args: 1, vars0_pd, constraints={'type': 'eq', 'fun': constraints_PD, 'args': (np.exp(wc_4D_solution), np.exp(wc_Prime_4D_solution), x_grid4D, sx_grid4D, sc_grid4D, sd_grid4D, xprime4D, sxprime4D, scprime4D, sdprime4D, cgprime4D, dgprime4D, w4D, wij, deg, nGH, params)}, options=options_fmincon, method='L-BFGS-B')"
      ]
    },
    {
      "cell_type": "code",
      "execution_count": null,
      "metadata": {
        "id": "hx6CSNpYu8VZ"
      },
      "outputs": [],
      "source": [
        "# Extract Solution\n",
        "pd_solution = np.reshape(result_pd.x, (deg+1, deg+1, deg+1, deg+1))"
      ]
    },
    {
      "cell_type": "code",
      "execution_count": null,
      "metadata": {
        "id": "_DVUi7rfu8VZ",
        "outputId": "d3ca02c5-bf80-4dc8-b0f1-98d41757c1b2"
      },
      "outputs": [
        {
          "data": {
            "text/plain": [
              "(8, 8, 8, 8)"
            ]
          },
          "execution_count": 102,
          "metadata": {},
          "output_type": "execute_result"
        }
      ],
      "source": [
        "pd_solution.shape"
      ]
    },
    {
      "cell_type": "markdown",
      "metadata": {
        "id": "6nKnFvZveuUn"
      },
      "source": [
        "**3.5.10 Define constraints_PF**"
      ]
    },
    {
      "cell_type": "code",
      "execution_count": null,
      "metadata": {
        "id": "Rl-ml5oJdhyv"
      },
      "outputs": [],
      "source": [
        "def constraints_Pf(vars, WC, WC_Prime, cgprime, w3D, wi_vals, deg, nGH, params):\n",
        " pf = vars.reshape((deg + 1, deg + 1, deg + 1))\n",
        " Pf = np.exp(pf)\n",
        "\n",
        " F = Pf - params.delta**params.theta * np.pi**(-1.5) * np.sum(w3D * ((WC_Prime + 1) / WC**(params.theta - 1)), axis=(3, 4, 5)) * (np.pi**(-0.5) * np.sum(wi_vals.reshape((1, 1, 1, nGH)) * np.exp((params.theta - 1 - params.theta / params.psi) * cgprime), axis=3))\n",
        "\n",
        " return F.flatten()"
      ]
    },
    {
      "cell_type": "markdown",
      "metadata": {
        "id": "0wEMVdiRe210"
      },
      "source": [
        "**3.5.11 Compute risk free rate, solve the optimization problem & extract solution**"
      ]
    },
    {
      "cell_type": "code",
      "execution_count": null,
      "metadata": {
        "id": "QHnFEgz5ezsS"
      },
      "outputs": [],
      "source": [
        "pf0 = -res_ll['A0F'] * np.ones((n, n, n))\n",
        "vars0_pf = pf0.flatten()"
      ]
    },
    {
      "cell_type": "code",
      "execution_count": null,
      "metadata": {
        "id": "Ozfcg5I5u8Va",
        "outputId": "03104c00-40a4-4be4-c4f8-1cf96f1e643e"
      },
      "outputs": [
        {
          "name": "stderr",
          "output_type": "stream",
          "text": [
            "/var/folders/0f/hb52m97d2mv7gyrhm5kb3ws40000gn/T/ipykernel_831/3253268224.py:2: OptimizeWarning: Unknown solver options: algorithm, finite_diff_type\n",
            "  result_pf = minimize(lambda vars, *args: 1, vars0_pf, constraints={'type': 'eq', 'fun': constraints_Pf, 'args': (np.exp(wc_4D_solution), np.exp(wc_Prime_4D_solution), cgprime3D, w3D, wi_vals, deg, nGH, params)}, options=options_fmincon, method='L-BFGS-B' )\n",
            " This problem is unconstrained.\n"
          ]
        },
        {
          "name": "stdout",
          "output_type": "stream",
          "text": [
            "RUNNING THE L-BFGS-B CODE\n",
            "\n",
            "           * * *\n",
            "\n",
            "Machine precision = 2.220D-16\n",
            " N =          512     M =           10\n",
            "\n",
            "At X0         0 variables are exactly at the bounds\n",
            "\n",
            "At iterate    0    f=  1.00000D+00    |proj g|=  0.00000D+00\n",
            "\n",
            "           * * *\n",
            "\n",
            "Tit   = total number of iterations\n",
            "Tnf   = total number of function evaluations\n",
            "Tnint = total number of segments explored during Cauchy searches\n",
            "Skip  = number of BFGS updates skipped\n",
            "Nact  = number of active bounds at final generalized Cauchy point\n",
            "Projg = norm of the final projected gradient\n",
            "F     = final function value\n",
            "\n",
            "           * * *\n",
            "\n",
            "   N    Tit     Tnf  Tnint  Skip  Nact     Projg        F\n",
            "  512      0      1      0     0     0   0.000D+00   1.000D+00\n",
            "  F =   1.0000000000000000     \n",
            "\n",
            "CONVERGENCE: NORM_OF_PROJECTED_GRADIENT_<=_PGTOL            \n"
          ]
        }
      ],
      "source": [
        "# Solve the optimization problem for constraints_Pf\n",
        "result_pf = minimize(lambda vars, *args: 1, vars0_pf, constraints={'type': 'eq', 'fun': constraints_Pf, 'args': (np.exp(wc_4D_solution), np.exp(wc_Prime_4D_solution), cgprime3D, w3D, wi_vals, deg, nGH, params)}, options=options_fmincon, method='L-BFGS-B' )"
      ]
    },
    {
      "cell_type": "code",
      "execution_count": null,
      "metadata": {
        "id": "D4zNJ6Axu8Va"
      },
      "outputs": [],
      "source": [
        "pf_solution = np.reshape(result_pf.x, (deg+1, deg+1, deg+1))"
      ]
    },
    {
      "cell_type": "markdown",
      "metadata": {
        "id": "gXbPRq3ce_Qk"
      },
      "source": [
        "**3.5.12 Define wrap_vec function**"
      ]
    },
    {
      "cell_type": "code",
      "execution_count": null,
      "metadata": {
        "id": "-scS5Tk7ezVz"
      },
      "outputs": [],
      "source": [
        "def wrap_vec(b):\n",
        "    c = []\n",
        "    ceq = b\n",
        "    return c, ceq"
      ]
    },
    {
      "cell_type": "markdown",
      "metadata": {
        "id": "D5M9MSSFfEjO"
      },
      "source": [
        "**3.6. Run simulations for Annualized moments**\n",
        "\n",
        "This is the last section of the code, where we suffered translating due to an error.\n",
        "\n",
        "However, this section was for calculating annualized returns and ratios based on simulated monthly data to analyze the long-term investment outcomes and the impact of economic factors on asset prices.\n",
        "\n",
        "The step by step explanation of this code part:\n",
        "\n",
        "1. Annualize monthly log returns which is crucial for translating short-term return dynamics into a long-term investment horizon.\n",
        "\n",
        "2. Transforms the log returns to gross returns to provide a direct percentage change interpretation.\n",
        "\n",
        "\n",
        "3. Compute excess returns of the market to evaluate the performance of investments after accounting for the time value og money\n",
        "\n",
        "4. Annualized wc and pd ratios to reflect growth rates, because higher-order effects in asset pricing can significantly impact the long-term evolution of these ratios due to compounding effects.\n",
        "\n",
        "5. Calculates the median of the mean and standard deviation of the annualized wc and pd ratios. Where it reflects uncertainty and risk factors.\n",
        "\n",
        "6. Simulation results\n",
        "\n",
        "**6.1 Initialize parameters & simulate states**"
      ]
    },
    {
      "cell_type": "code",
      "execution_count": null,
      "metadata": {
        "id": "G7db_4vZezJD"
      },
      "outputs": [],
      "source": [
        "years = 1000000\n",
        "t = years * 12\n",
        "ns = 1\n",
        "\n",
        "x_simul, sx_simul, sc_simul, sd_simul, cg_simul, dg_simul = simul_states(years, ns, params)"
      ]
    },
    {
      "cell_type": "code",
      "execution_count": null,
      "metadata": {
        "id": "MxlaCjtlu8Vb",
        "outputId": "000b5306-de2d-4d57-a056-3cf8dac78379"
      },
      "outputs": [
        {
          "data": {
            "text/plain": [
              "(12000001, 1)"
            ]
          },
          "execution_count": 111,
          "metadata": {},
          "output_type": "execute_result"
        }
      ],
      "source": [
        "x_simul.shape\n",
        "sx_simul.shape\n",
        "sd_simul.shape"
      ]
    },
    {
      "cell_type": "code",
      "execution_count": null,
      "metadata": {
        "id": "kShkewVau8Vb",
        "outputId": "47bc4781-184a-44b9-8394-9e6d6671a731"
      },
      "outputs": [
        {
          "data": {
            "text/plain": [
              "(12000001, 1)"
            ]
          },
          "execution_count": 109,
          "metadata": {},
          "output_type": "execute_result"
        }
      ],
      "source": [
        "sx_simul.shape"
      ]
    },
    {
      "cell_type": "code",
      "execution_count": null,
      "metadata": {
        "id": "Jzppetpku8Vb",
        "outputId": "b5d4dc82-d569-44db-f72b-042ffbfe1447"
      },
      "outputs": [
        {
          "data": {
            "text/plain": [
              "(8,)"
            ]
          },
          "execution_count": 115,
          "metadata": {},
          "output_type": "execute_result"
        }
      ],
      "source": [
        "x_vals.shape"
      ]
    },
    {
      "cell_type": "markdown",
      "metadata": {},
      "source": [
        "**- plot**"
      ]
    },
    {
      "cell_type": "code",
      "execution_count": null,
      "metadata": {
        "id": "AULxGqGBu8Vb",
        "outputId": "372b672e-68bc-4708-d69c-77cba8fa1e52"
      },
      "outputs": [
        {
          "data": {
            "image/png": "[encoded data removed]",
            "text/plain": [
              "<Figure size 640x480 with 1 Axes>"
            ]
          },
          "metadata": {},
          "output_type": "display_data"
        }
      ],
      "source": [
        "import matplotlib.pyplot as plt\n",
        "from mpl_toolkits.mplot3d import Axes3D\n",
        "import numpy as np\n",
        "\n",
        "# Assuming x, sx, and sd are your data arrays, for example:\n",
        "x =x_vals\n",
        "sx = sx_vals\n",
        "sd = sd_vals\n",
        "\n",
        "# Creating a figure\n",
        "fig = plt.figure()\n",
        "\n",
        "# Adding a 3D subplot\n",
        "ax = fig.add_subplot(111, projection='3d')\n",
        "\n",
        "# Plotting the data\n",
        "ax.scatter(x.flatten(), sx.flatten(), sd.flatten())\n",
        "\n",
        "# Setting labels\n",
        "ax.set_xlabel('X Label')\n",
        "ax.set_ylabel('SX Label')\n",
        "ax.set_zlabel('SD Label')\n",
        "\n",
        "# Show plot\n",
        "plt.show()\n"
      ]
    },
    {
      "cell_type": "markdown",
      "metadata": {
        "id": "Q0Xgck9wu8Vc"
      },
      "source": [
        "**4. literature**\n",
        "\n",
        "https://onlinelibrary.wiley.com/doi/epdf/10.1111/jofi.12615"
      ]
    }
  ],
  "metadata": {
    "colab": {
      "provenance": []
    },
    "kernelspec": {
      "display_name": "Python 3",
      "name": "python3"
    },
    "language_info": {
      "codemirror_mode": {
        "name": "ipython",
        "version": 3
      },
      "file_extension": ".py",
      "mimetype": "text/x-python",
      "name": "python",
      "nbconvert_exporter": "python",
      "pygments_lexer": "ipython3",
      "version": "3.11.3"
    }
  },
  "nbformat": 4,
  "nbformat_minor": 0
}
